{
 "cells": [
  {
   "cell_type": "code",
   "execution_count": null,
   "metadata": {},
   "outputs": [],
   "source": [
    "from torch.distributed.rpc import RRef\n",
    "from src.environments.generic_environments import *\n",
    "from src.models.gp_model import get_graph_key, gather_data\n",
    "#from src.abci_dibs_gp import ABCIDiBSGP as ABCI"
   ]
  },
  {
   "cell_type": "code",
   "execution_count": null,
   "metadata": {},
   "outputs": [],
   "source": [
    "import matplotlib.pyplot as plt\n",
    "import torch.distributions as dist\n",
    "from matplotlib.ticker import MaxNLocator\n",
    "\n",
    "from src.abci_dibs_gp import ABCIDiBSGP as ABCI\n",
    "from src.environments.generic_environments import *\n",
    "from src.models.gp_model import *\n",
    "\n",
    "# specify the number of nodes and (optionally) a query of interventional variables\n",
    "num_nodes = 5\n",
    "interventional_queries = None\n",
    "# interventional_queries = [InterventionalDistributionsQuery(['X2'], {'X1': dist.Uniform(2., 5.)})]\n",
    "\n",
    "# generate the ground truth environment\n",
    "env = BarabasiAlbert(num_nodes,\n",
    "            num_test_queries=50,\n",
    "            interventional_queries=interventional_queries)#Tellerium16!\n",
    "\n",
    "# plot true graph\n",
    "nx.draw(env.graph, nx.circular_layout(env.graph), labels=dict(zip(env.graph.nodes, env.graph.nodes)))"
   ]
  },
  {
   "cell_type": "code",
   "execution_count": null,
   "metadata": {},
   "outputs": [],
   "source": [
    "policy = 'graph-info-gain'\n",
    "abci = ABCI(env, policy, num_particles=5, num_mc_graphs=40, num_workers=1, dibs_plus=True, linear=False)\n",
    "\n",
    "num_experiments = 2\n",
    "batch_size = 3\n",
    "\n",
    "abci.run(num_experiments, batch_size, num_initial_obs_samples=3)"
   ]
  },
  {
   "cell_type": "code",
   "execution_count": null,
   "metadata": {},
   "outputs": [],
   "source": [
    "print(f'Number of observational batches: {len([e for e in abci.experiments if e.interventions == {}])}')\n",
    "for node in env.node_labels:\n",
    "    print(\n",
    "        f'Number of interventional batches on {node}: {len([e for e in abci.experiments if node in e.interventions])}')\n",
    "\n",
    "# plot expected SHD over experiments\n",
    "ax = plt.figure().gca()\n",
    "plt.plot(abci.eshd_list)\n",
    "plt.xlabel('Number of Experiments')\n",
    "plt.ylabel('Expected SHD')\n",
    "ax.xaxis.set_major_locator(MaxNLocator(integer=True))\n",
    "\n",
    "# plot auroc over experiments\n",
    "ax = plt.figure().gca()\n",
    "plt.plot(abci.auroc_list)\n",
    "plt.xlabel('Number of Experiments')\n",
    "plt.ylabel('AUROC')\n",
    "ax.xaxis.set_major_locator(MaxNLocator(integer=True))\n",
    "\n",
    "# plot auprc over experiments\n",
    "ax = plt.figure().gca()\n",
    "plt.plot(abci.auprc_list)\n",
    "plt.xlabel('Number of Experiments')\n",
    "plt.ylabel('AUPRC')\n",
    "ax.xaxis.set_major_locator(MaxNLocator(integer=True))\n",
    "\n",
    "# plot Query KLD over experiments\n",
    "ax = plt.figure().gca()\n",
    "plt.plot(abci.query_kld_list)\n",
    "plt.xlabel('Number of Experiments')\n",
    "plt.ylabel('Query KLD')\n",
    "ax.xaxis.set_major_locator(MaxNLocator(integer=True))\n",
    "plt.tight_layout()"
   ]
  },
  {
   "cell_type": "code",
   "execution_count": null,
   "metadata": {},
   "outputs": [],
   "source": [
    "# plot X_i -> X_j true vs. predicted\n",
    "i = 0\n",
    "j = 1\n",
    "xdata, ydata = gather_data(abci.experiments, f'X{j}', parents=[f'X{i}'])\n",
    "xrange = torch.linspace(-7., 7., 100).unsqueeze(-1)\n",
    "ytrue = env.mechanisms[f'X{j}'](xrange).detach()\n",
    "mech = abci.mechanism_model.get_mechanism(f'X{j}', parents=[f'X{i}'])\n",
    "mech.set_data(xdata, ydata)\n",
    "ypred = mech(xrange).detach()\n",
    "\n",
    "plt.figure()\n",
    "plt.plot(xdata, ydata, 'rx', label='Experimental Data')\n",
    "plt.plot(xrange, ytrue, label='X->Y true')\n",
    "plt.plot(xrange, ypred, label='X->Y prediction')\n",
    "plt.xlabel(f'X{i}')\n",
    "plt.ylabel(f'X{j}')\n",
    "plt.legend()\n",
    "plt.tight_layout()"
   ]
  }
 ],
 "metadata": {
  "language_info": {
   "name": "python"
  }
 },
 "nbformat": 4,
 "nbformat_minor": 2
}
