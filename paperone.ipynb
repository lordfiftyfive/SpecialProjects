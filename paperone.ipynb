{
 "cells": [
  {
   "cell_type": "code",
   "execution_count": null,
   "metadata": {},
   "outputs": [],
   "source": []
  },
  {
   "cell_type": "code",
   "execution_count": null,
   "metadata": {},
   "outputs": [],
   "source": []
  },
  {
   "cell_type": "code",
   "execution_count": null,
   "metadata": {},
   "outputs": [],
   "source": [
    "#this is the code for identifying  keystone species"
   ]
  },
  {
   "cell_type": "markdown",
   "metadata": {},
   "source": [
    "#question 1 for implentation: How is the proposer going to work?\n",
    "\n",
    "explore using mult-arm bandits or hyperparameter optimization\n",
    "\n",
    "bayesian information criteria is the reward. the accuracy aspect of BIC will be defined as how close to the data it is. \n",
    "\n",
    "the data used will be MEG or EEG. \n",
    "\n",
    "the policies will be trained normally. number of groupings of agents will be a hyperparameter. these instances will be trained in parallel fashion\n",
    "\n",
    "centralized learning will be used. \n",
    "\n",
    "This is because \n",
    "\n",
    "the number of groupings will increase until and be compared to a smaller number of groupings until reward stops improving. \n",
    "\n",
    "libraries used:\n",
    "\n",
    "agilerl\n"
   ]
  },
  {
   "cell_type": "code",
   "execution_count": 1,
   "metadata": {},
   "outputs": [
    {
     "name": "stdout",
     "output_type": "stream",
     "text": [
      "pygame 2.5.1 (SDL 2.28.2, Python 3.10.11)\n",
      "Hello from the pygame community. https://www.pygame.org/contribute.html\n"
     ]
    }
   ],
   "source": [
    "from ray.rllib.connectors.env_to_module import FlattenObservations\n",
    "from ray.rllib.core.rl_module.multi_rl_module import MultiRLModuleSpec\n",
    "from ray.rllib.core.rl_module.rl_module import RLModuleSpec\n",
    "from ray.rllib.examples.envs.classes.two_step_game import TwoStepGameWithGroupedAgents\n",
    "from ray.rllib.utils.test_utils import (\n",
    "    add_rllib_example_script_args,\n",
    "    run_rllib_example_script_experiment,\n",
    ")\n",
    "from ray.tune.registry import register_env, get_trainable_cls"
   ]
  },
  {
   "cell_type": "code",
   "execution_count": 3,
   "metadata": {},
   "outputs": [],
   "source": [
    "import torch\n",
    "import numpy as np\n",
    "import sys, copy, math, time, pdb\n",
    "import os.path\n",
    "import random\n",
    "import pdb\n",
    "import csv\n",
    "import argparse\n",
    "import itertools\n",
    "from itertools import permutations, product\n",
    "from sklearn.model_selection import train_test_split\n",
    "import torch.optim as optim\n",
    "from torchdiffeq import odeint\n",
    "import itertools\n",
    "\n",
    "import torch\n",
    "from pettingzoo.mpe import simple_speaker_listener_v4\n",
    "from tqdm import trange\n",
    "\n",
    "from agilerl.components.multi_agent_replay_buffer import MultiAgentReplayBuffer\n",
    "from agilerl.wrappers.pettingzoo_wrappers import PettingZooVectorizationParallelWrapper\n",
    "\n",
    "from agilerl.algorithms.matd3 import MATD3"
   ]
  },
  {
   "cell_type": "markdown",
   "metadata": {},
   "source": [
    "https://github.com/spxuw/DKI/blob/main/DKI.py"
   ]
  },
  {
   "cell_type": "markdown",
   "metadata": {},
   "source": [
    "#import libraries "
   ]
  },
  {
   "cell_type": "code",
   "execution_count": 2,
   "metadata": {},
   "outputs": [],
   "source": [
    "import numpy as np\n",
    "from gymnasium.spaces import Dict, Discrete\n",
    "import argparse\n",
    "import os\n",
    "\n",
    "from ray import air, tune\n",
    "from ray.air.constants import TRAINING_ITERATION\n",
    "#from ray import rllib"
   ]
  },
  {
   "cell_type": "markdown",
   "metadata": {},
   "source": [
    "each time the algorithm decides it a new skill will be created "
   ]
  }
 ],
 "metadata": {
  "kernelspec": {
   "display_name": "Python 3",
   "language": "python",
   "name": "python3"
  },
  "language_info": {
   "codemirror_mode": {
    "name": "ipython",
    "version": 3
   },
   "file_extension": ".py",
   "mimetype": "text/x-python",
   "name": "python",
   "nbconvert_exporter": "python",
   "pygments_lexer": "ipython3",
   "version": "3.10.11"
  }
 },
 "nbformat": 4,
 "nbformat_minor": 2
}
