{
 "cells": [
  {
   "cell_type": "code",
   "execution_count": 1,
   "id": "4ff2d1de",
   "metadata": {},
   "outputs": [
    {
     "name": "stderr",
     "output_type": "stream",
     "text": [
      "C:\\Users\\subar\\anaconda3\\envs\\d\\lib\\site-packages\\paramiko\\transport.py:219: CryptographyDeprecationWarning: Blowfish has been deprecated\n",
      "  \"class\": algorithms.Blowfish,\n"
     ]
    },
    {
     "name": "stdout",
     "output_type": "stream",
     "text": [
      "[Taichi] version 1.4.1, llvm 15.0.1, commit e67c674e, win, python 3.9.15\n"
     ]
    }
   ],
   "source": [
    "import pandas as pd\n",
    "#import modin.pandas as mpd\n",
    "import os\n",
    "import numpy as np\n",
    "from hyperimpute.plugins.imputers import Imputers\n",
    "from hyperopt import hp\n",
    "from composer.algorithms import FusedLayerNorm\n",
    "from composer import Trainer\n",
    "from shaphypetune import BoostSearch, BoostRFE, BoostRFA, BoostBoruta\n",
    "from xgboost import XGBClassifier\n",
    "import xgboost\n",
    "\n",
    "import taichi as ti\n",
    "import taichi.math as tm\n",
    "os.environ[\"MODIN_CPUS\"] = \"12\""
   ]
  },
  {
   "cell_type": "code",
   "execution_count": 10,
   "id": "063cb537",
   "metadata": {},
   "outputs": [],
   "source": [
    "#using dart can boost performance of XGboost\n",
    "param = {'booster': 'dart',\n",
    "         'max_depth': 15 + hp.randint('num_leaves', 5), 'learning_rate': hp.loguniform('learning_rate', np.log(0.01), np.log(0.2)),#0.1,\n",
    "         'objective': 'binary:logistic',\n",
    "         'sample_type': 'uniform',\n",
    "         'normalize_type': 'tree',\n",
    "         'rate_drop': 0.1,\n",
    "         'skip_drop': 0.5}\n",
    "param['gpu_id'] = 0\n",
    "param['tree_method'] = 'gpu_hist'"
   ]
  },
  {
   "cell_type": "code",
   "execution_count": 4,
   "id": "0962cac4",
   "metadata": {},
   "outputs": [
    {
     "name": "stderr",
     "output_type": "stream",
     "text": [
      "[Errno 2] No such file or directory: 'C:\\\\Users\\\\subar\\\\anaconda3\\\\envs\\\\d\\\\lib\\\\site-packages\\\\tigramite\\\\independence_tests\\\\..\\\\..\\\\versions.py'\n"
     ]
    },
    {
     "name": "stdout",
     "output_type": "stream",
     "text": [
      "[KeOps] Warning : Cuda libraries were not detected on the system ; using cpu only mode\n"
     ]
    },
    {
     "name": "stderr",
     "output_type": "stream",
     "text": [
      "[Errno 2] No such file or directory: 'C:\\\\Users\\\\subar\\\\anaconda3\\\\envs\\\\d\\\\lib\\\\site-packages\\\\tigramite\\\\independence_tests\\\\..\\\\..\\\\versions.py'\n"
     ]
    }
   ],
   "source": [
    "from tigramite.independence_tests import GPDC\n",
    "from fpcmci.CPrinter import CPLevel\n",
    "from fpcmci.FPCMCI import FPCMCI\n",
    "from fpcmci.preprocessing.data import Data\n",
    "from fpcmci.preprocessing.subsampling_methods.Static import Static\n",
    "from fpcmci.preprocessing.subsampling_methods.SubsamplingMethod import SubsamplingMethod\n",
    "from fpcmci.preprocessing.subsampling_methods.WSDynamic import WSDynamic\n",
    "from fpcmci.preprocessing.subsampling_methods.WSFFTStatic import WSFFTStatic\n",
    "from fpcmci.preprocessing.subsampling_methods.WSStatic import WSStatic\n",
    "from fpcmci.selection_methods.TE import TE, TEestimator\n",
    "from fpcmci.basics.constants import LabelType"
   ]
  },
  {
   "cell_type": "code",
   "execution_count": 5,
   "id": "01062ee0",
   "metadata": {},
   "outputs": [
    {
     "name": "stderr",
     "output_type": "stream",
     "text": [
      "[Errno 2] No such file or directory: 'C:\\\\Users\\\\subar\\\\anaconda3\\\\envs\\\\d\\\\lib\\\\site-packages\\\\tigramite\\\\..\\\\versions.py'\n",
      "[Errno 2] No such file or directory: 'C:\\\\Users\\\\subar\\\\anaconda3\\\\envs\\\\d\\\\lib\\\\site-packages\\\\tigramite\\\\..\\\\versions.py'\n"
     ]
    }
   ],
   "source": [
    "import tigramite\n",
    "from tigramite import data_processing as pp\n",
    "from tigramite.toymodels import structural_causal_processes as toys\n",
    "from tigramite import plotting as tp\n",
    "from tigramite.pcmci import PCMCI\n",
    "from tigramite.lpcmci import LPCMCI\n",
    "from tigramite.independence_tests import ParCorr, GPDC, CMIknn, CMIsymb\n",
    "from tigramite.models import LinearMediation, Prediction"
   ]
  },
  {
   "cell_type": "code",
   "execution_count": 17,
   "id": "656608d8",
   "metadata": {},
   "outputs": [
    {
     "ename": "NameError",
     "evalue": "name 'dtrain' is not defined",
     "output_type": "error",
     "traceback": [
      "Traceback \u001b[1;36m(most recent call last)\u001b[0m:\n",
      "\u001b[1;36m  File \u001b[1;32m\"C:\\Users\\subar\\AppData\\Local\\Temp\\ipykernel_40852\\3872483895.py\"\u001b[1;36m, line \u001b[1;32m6\u001b[1;36m, in \u001b[1;35m<module>\u001b[1;36m\u001b[0m\n\u001b[1;33m    model_with_constraints = xgboost.train(params_constrained, dtrain,\u001b[0m\n",
      "\u001b[1;31mNameError\u001b[0m\u001b[1;31m:\u001b[0m name 'dtrain' is not defined\n"
     ]
    }
   ],
   "source": [
    "#this shows a feature of XGboost that allows one to encode priors in the form of contraints on the data being fitted\n",
    "\n",
    "params_constrained = param.copy()\n",
    "params_constrained['monotone_constraints'] = {\"f0\": 1, \"f2\": -1}#(1,-1)\n",
    "\n",
    "model_with_constraints = xgboost.train(params_constrained, dtrain,\n",
    "                                   num_boost_round = 1000, evals = evallist,\n",
    "                                   early_stopping_rounds = 10)\n",
    "\n"
   ]
  },
  {
   "cell_type": "code",
   "execution_count": null,
   "id": "e0bcdd6f",
   "metadata": {},
   "outputs": [],
   "source": [
    "param_dist_hyperopt = {\n",
    "    'booster': 'dart',\n",
    "    'max_depth': 15 + hp.randint('num_leaves', 5), \n",
    "    'learning_rate': hp.loguniform('learning_rate', np.log(0.01), np.log(0.2)),\n",
    "    'colsample_bytree': hp.uniform('colsample_by_tree', 0.6, 1.0)\n",
    "}"
   ]
  },
  {
   "cell_type": "code",
   "execution_count": 11,
   "id": "c3cb401a",
   "metadata": {},
   "outputs": [
    {
     "name": "stdout",
     "output_type": "stream",
     "text": [
      "               Index\n",
      "Date                \n",
      "2019-12-31  0.065451\n",
      "2020-03-31 -0.102719\n",
      "2020-06-30 -0.123457\n",
      "2020-09-30  0.029449\n",
      "2020-12-31  0.003731\n",
      "2021-03-31  0.052045\n",
      "2021-06-30  0.007067\n",
      "2021-09-30 -0.148538\n",
      "2021-12-31 -0.030220\n",
      "2022-03-31 -0.158640\n",
      "2022-06-30 -0.158249\n",
      "2022-09-30  0.172000\n"
     ]
    }
   ],
   "source": [
    "import quandl\n",
    "sentiment =quandl.get(\"UMICH/SOC1\", authtoken=\"DNMZo2iRzVENxpxqHBKF\", transform=\"rdiff\", collapse=\"quarterly\", start_date=\"2019-08-01\", end_date=\"2022-09-30\")\n",
    "print(sentiment )"
   ]
  },
  {
   "cell_type": "code",
   "execution_count": 10,
   "id": "2b3b4aed",
   "metadata": {},
   "outputs": [
    {
     "name": "stdout",
     "output_type": "stream",
     "text": [
      "                  row_id  cfips  ... microbusiness_density active\n",
      "0        1001_2019-08-01   1001  ...              3.007682   1249\n",
      "1        1001_2019-09-01   1001  ...              2.884870   1198\n",
      "2        1001_2019-10-01   1001  ...              3.055843   1269\n",
      "3        1001_2019-11-01   1001  ...              2.993233   1243\n",
      "4        1001_2019-12-01   1001  ...              2.993233   1243\n",
      "...                  ...    ...  ...                   ...    ...\n",
      "122260  56045_2022-06-01  56045  ...              1.803249    101\n",
      "122261  56045_2022-07-01  56045  ...              1.803249    101\n",
      "122262  56045_2022-08-01  56045  ...              1.785395    100\n",
      "122263  56045_2022-09-01  56045  ...              1.785395    100\n",
      "122264  56045_2022-10-01  56045  ...              1.785395    100\n",
      "\n",
      "[122265 rows x 7 columns]\n",
      "2.181550539744848\n",
      "Empty DataFrame\n",
      "Columns: [row_id, cfips, county, state, first_day_of_month, microbusiness_density, active]\n",
      "Index: []\n",
      "Empty DataFrame\n",
      "Columns: [pct_bb_2017, pct_bb_2018, pct_bb_2019, pct_bb_2020, pct_bb_2021, cfips, pct_college_2017, pct_college_2018, pct_college_2019, pct_college_2020, pct_college_2021, pct_foreign_born_2017, pct_foreign_born_2018, pct_foreign_born_2019, pct_foreign_born_2020, pct_foreign_born_2021, pct_it_workers_2017, pct_it_workers_2018, pct_it_workers_2019, pct_it_workers_2020, pct_it_workers_2021, median_hh_inc_2017, median_hh_inc_2018, median_hh_inc_2019, median_hh_inc_2020, median_hh_inc_2021]\n",
      "Index: []\n"
     ]
    }
   ],
   "source": [
    "train = pd.read_csv('D:\\\\KaggleData\\\\microbuisness\\\\train.csv')\n",
    "census = pd.read_csv('D:\\\\KaggleData\\\\microbuisness\\\\census_starter.csv')\n",
    "print(train)\n",
    "print(122265/56045)\n",
    "print(train.head(0))\n",
    "print(census.head(0))\n",
    "cols = census.columns\n",
    "\n",
    "plugin = Imputers().get(\"miracle\")\n",
    "\n",
    "#train = plugin.fit_transform(train)\n",
    "#census = census.drop(['cfips'],1)\n",
    "#trainn = train\n",
    "#print(census.head(5))\n",
    "#trainn = trainn.merge(census, 'right',on='cfips')\n",
    "#trainn = pd.concat([train,census],1)\n",
    "#trainn = trainn.fillna(method='ffill')\n",
    "#print(trainn.head(5))"
   ]
  },
  {
   "cell_type": "code",
   "execution_count": 219,
   "id": "70b6eef4",
   "metadata": {},
   "outputs": [
    {
     "name": "stdout",
     "output_type": "stream",
     "text": [
      "[KeOps] Warning : Cuda libraries were not detected on the system ; using cpu only mode\n"
     ]
    }
   ],
   "source": [
    "\n",
    "from matplotlib import pyplot as plt\n",
    "%matplotlib inline     \n",
    "\n",
    "import tigramite\n",
    "from tigramite import data_processing as pp\n",
    "from tigramite.toymodels import structural_causal_processes as toys\n",
    "from tigramite import plotting as tp\n",
    "from tigramite.lpcmci import LPCMCI\n",
    "from tigramite.pcmci import PCMCI\n",
    "from tigramite.independence_tests import ParCorr #, GPDC, CMIknn, CMIsymb"
   ]
  },
  {
   "cell_type": "code",
   "execution_count": 92,
   "id": "051f2351",
   "metadata": {},
   "outputs": [
    {
     "name": "stdout",
     "output_type": "stream",
     "text": [
      "StatisticalResult(statistic=0.95, p_value=5.803555641539876e-10)\n"
     ]
    }
   ],
   "source": [
    "import numpy as np\n",
    "from frouros.detectors.data_drift import KSTest\n",
    "\n",
    "detector = KSTest()\n",
    "y = train['active']\n",
    "t = y.head(39)\n",
    "te = t.tail(20)\n",
    "t = t.head(19)\n",
    "t = np.array(t)\n",
    "te = np.array(te)\n",
    "detector.fit(X=t)\n",
    "statistic, p_value = detector.compare(X=te)\n",
    "print(statistic)"
   ]
  },
  {
   "cell_type": "code",
   "execution_count": 4,
   "id": "79b6a309",
   "metadata": {},
   "outputs": [
    {
     "ename": "NameError",
     "evalue": "name 'dat' is not defined",
     "output_type": "error",
     "traceback": [
      "Traceback \u001b[1;36m(most recent call last)\u001b[0m:\n",
      "\u001b[1;36m  File \u001b[1;32m\"C:\\Users\\subar\\AppData\\Local\\Temp\\ipykernel_49924\\2719430893.py\"\u001b[1;36m, line \u001b[1;32m3\u001b[1;36m, in \u001b[1;35m<module>\u001b[1;36m\u001b[0m\n\u001b[1;33m    dd = np.ravel(dat)#data_to_predict)\u001b[0m\n",
      "\u001b[1;31mNameError\u001b[0m\u001b[1;31m:\u001b[0m name 'dat' is not defined\n"
     ]
    }
   ],
   "source": [
    "from scipy import signal\n",
    "from scipy import integrate\n",
    "dd = np.ravel(dat)#data_to_predict)\n",
    "p,f = signal.periodogram(a)\n",
    "a = integrate.cumtrapz(f,np.sqrt(p),0)\n",
    "plt.plot(a)"
   ]
  },
  {
   "cell_type": "code",
   "execution_count": 2,
   "id": "8fe4606b",
   "metadata": {},
   "outputs": [
    {
     "name": "stdout",
     "output_type": "stream",
     "text": [
      "[Taichi] Starting on arch=x64\n"
     ]
    },
    {
     "data": {
      "text/plain": [
       "0.03333332762122154"
      ]
     },
     "execution_count": 2,
     "metadata": {},
     "output_type": "execute_result"
    }
   ],
   "source": [
    "import taichi as ti\n",
    "ti.init(arch=ti.cpu)\n",
    "\n",
    "@ti.func\n",
    "def inv_square(x):  # A Taichi function\n",
    "    return 1.0 / (x * x)\n",
    "\n",
    "@ti.kernel\n",
    "def partial_sum(n: int) -> float:  # A kernel\n",
    "    total = 0.0\n",
    "    for i in range(1, n + 1):\n",
    "        total += inv_square(n)\n",
    "    return total\n",
    "partial_sum(30)"
   ]
  },
  {
   "cell_type": "raw",
   "id": "b7b350b4",
   "metadata": {},
   "source": [
    "Final plan: we will train on shaphypetune and then use shaphypetune to make predictions\n",
    "\n",
    "THen we will use the MLP transformer and train it on the data again. THen we will generate predictions bys using the shaphypetune predictions as test input data"
   ]
  },
  {
   "cell_type": "code",
   "execution_count": 8,
   "id": "ed3b609e",
   "metadata": {},
   "outputs": [
    {
     "name": "stdout",
     "output_type": "stream",
     "text": [
      "[Taichi] Starting on arch=cuda\n",
      "             row_id  cfips  ... microbusiness_density active\n",
      "0   1001_2019-08-01   1001  ...              3.007682   1249\n",
      "1   1001_2019-09-01   1001  ...              2.884870   1198\n",
      "2   1001_2019-10-01   1001  ...              3.055843   1269\n",
      "3   1001_2019-11-01   1001  ...              2.993233   1243\n",
      "4   1001_2019-12-01   1001  ...              2.993233   1243\n",
      "5   1001_2020-01-01   1001  ...              2.969090   1242\n",
      "6   1001_2020-02-01   1001  ...              2.909326   1217\n",
      "7   1001_2020-03-01   1001  ...              2.933231   1227\n",
      "8   1001_2020-04-01   1001  ...              3.000167   1255\n",
      "9   1001_2020-05-01   1001  ...              3.004948   1257\n",
      "10  1001_2020-06-01   1001  ...              3.019292   1263\n",
      "11  1001_2020-07-01   1001  ...              3.083837   1290\n",
      "12  1001_2020-08-01   1001  ...              3.174679   1328\n",
      "13  1001_2020-09-01   1001  ...              3.205756   1341\n",
      "14  1001_2020-10-01   1001  ...              3.193804   1336\n",
      "15  1001_2020-11-01   1001  ...              3.038416   1271\n",
      "16  1001_2020-12-01   1001  ...              3.002558   1256\n",
      "17  1001_2021-01-01   1001  ...              2.947244   1243\n",
      "18  1001_2021-02-01   1001  ...              3.106106   1310\n",
      "19  1001_2021-03-01   1001  ...              3.144043   1326\n",
      "20  1001_2021-04-01   1001  ...              3.224659   1360\n",
      "21  1001_2021-05-01   1001  ...              3.227030   1361\n",
      "22  1001_2021-06-01   1001  ...              3.222288   1359\n",
      "23  1001_2021-07-01   1001  ...              3.210433   1354\n",
      "24  1001_2021-08-01   1001  ...              3.219917   1358\n",
      "25  1001_2021-09-01   1001  ...              3.186722   1344\n",
      "26  1001_2021-10-01   1001  ...              3.203320   1351\n",
      "27  1001_2021-11-01   1001  ...              3.200948   1350\n",
      "28  1001_2021-12-01   1001  ...              3.286307   1386\n",
      "29  1001_2022-01-01   1001  ...              3.296781   1401\n",
      "\n",
      "[30 rows x 7 columns]\n"
     ]
    },
    {
     "ename": "TaichiTypeError",
     "evalue": "\nFile \"C:\\Users\\subar\\AppData\\Local\\Temp\\ipykernel_9852\\3079493028.py\", line 9, in a:\n    a = dat['microbusiness_density']\n    ^^^^^^^^^^^^^^^^^^^^^^^^^^^^^^^^\nInvalid constant scalar data type: <class 'pandas.core.series.Series'>",
     "output_type": "error",
     "traceback": [
      "Traceback \u001b[1;36m(most recent call last)\u001b[0m:\n",
      "  File \u001b[0;32m\"C:\\Users\\subar\\AppData\\Local\\Temp\\ipykernel_9852\\3079493028.py\"\u001b[0m, line \u001b[0;32m71\u001b[0m, in \u001b[0;35m<module>\u001b[0m\n    a()\n",
      "\u001b[1;36m  File \u001b[1;32m\"C:\\Users\\subar\\anaconda3\\envs\\d\\lib\\site-packages\\taichi\\lang\\kernel_impl.py\"\u001b[1;36m, line \u001b[1;32m976\u001b[1;36m, in \u001b[1;35mwrapped\u001b[1;36m\u001b[0m\n\u001b[1;33m    raise type(e)('\\n' + str(e)) from None\u001b[0m\n",
      "\u001b[1;31mTaichiTypeError\u001b[0m\u001b[1;31m:\u001b[0m \nFile \"C:\\Users\\subar\\AppData\\Local\\Temp\\ipykernel_9852\\3079493028.py\", line 9, in a:\n    a = dat['microbusiness_density']\n    ^^^^^^^^^^^^^^^^^^^^^^^^^^^^^^^^\nInvalid constant scalar data type: <class 'pandas.core.series.Series'>\n"
     ]
    }
   ],
   "source": [
    "\n",
    "train = train.fillna(0)\n",
    "dat = train.head(30)\n",
    "print(dat)\n",
    "a = dat['microbusiness_density']\n",
    "b = dat['active']\n",
    "dat = pd.concat([a,b],1)\n",
    "dat = np.array(dat)\n",
    "#dat = scalar.fit_transform(dat)\n",
    "N = dat.shape[1]\n",
    "var_names = [r'$X^{%d}$' % j for j in range(N)]\n",
    "dat = pp.DataFrame(dat,var_names=var_names)\n",
    "tp.plot_timeseries(dat, figsize=(15, 5));\n",
    "plt.show()\n",
    "parcorr = ParCorr(significance='analytic')\n",
    "\n",
    "# Create a PCMCI object, passing the the dataframe and (conditional)\n",
    "# independence test object.\n",
    "pcmci = PCMCI(dataframe=dat, \n",
    "              cond_ind_test=parcorr,\n",
    "              verbosity=1)\n",
    "    \n",
    "correlations = pcmci.run_bivci(tau_max=12, val_only=True)['val_matrix']\n",
    "setup_args = {'var_names':var_names,\n",
    "              'figsize':(15, 6),\n",
    "              'x_base':5,\n",
    "              'y_base':.5}\n",
    "lag_func_matrix = tp.plot_lagfuncs(val_matrix=correlations, \n",
    "                                   setup_args=setup_args)\n",
    "    \n",
    "lpcmci = LPCMCI(dataframe=dat, \n",
    "                cond_ind_test=parcorr,\n",
    "                verbosity=1)\n",
    "\n",
    "# Define the analysis parameters.\n",
    "tau_max = 12 #number of time steps into the past to consider\n",
    "pc_alpha = 0.05 #i am guessing this is significance\n",
    "    \n",
    "# Run LPCMCI\n",
    "results = lpcmci.run_lpcmci(tau_max=tau_max,\n",
    "                                pc_alpha=pc_alpha)\n",
    "#lpcmci.print_significant_links()\n",
    "\n",
    "plt.show()\n",
    "# Plot time series graph\n",
    "print(\"val_matrix\")\n",
    "print(results['val_matrix'])# Estimated matrix of test statistic values regarding adjacencies.\n",
    "print(\"p-values\")\n",
    "print(results['p_matrix']) #the significance of said links\n",
    "print(\"graph\")\n",
    "print(results['graph']) #the directional links \n",
    "#x = x.fillna(0)\n",
    "#y = y.fillna(0)\n",
    "#x = np.squeeze(x)\n",
    "#y = np.squeeze(y)\n",
    "#corr, _ = stats.pearsonr(x, y)\n",
    "#print(corr)\n",
    "#print('Pearsons correlation: %.3f' % corr)\n",
    "tp.plot_time_series_graph(\n",
    "    figsize=(10, 10),\n",
    "    node_size=0.05,\n",
    "    val_matrix=results['val_matrix'],\n",
    "    graph=results['graph'],\n",
    "    var_names=var_names,\n",
    "    link_colorbar_label='MCI',\n",
    "    ); "
   ]
  },
  {
   "cell_type": "code",
   "execution_count": 32,
   "id": "4bc72659",
   "metadata": {},
   "outputs": [
    {
     "data": {
      "text/plain": [
       "[<matplotlib.lines.Line2D at 0x1f4a64869d0>]"
      ]
     },
     "execution_count": 32,
     "metadata": {},
     "output_type": "execute_result"
    },
    {
     "data": {
      "image/png": "[encoded data removed]",
      "text/plain": [
       "<Figure size 432x288 with 1 Axes>"
      ]
     },
     "metadata": {},
     "output_type": "display_data"
    }
   ],
   "source": [
    "from scipy import signal\n",
    "from scipy import integrate\n",
    "\n",
    "#dat = dat['microbusiness_density']\n",
    "dd = np.ravel(a)#data_to_predict)\n",
    "p,f = signal.periodogram(a)\n",
    "a = integrate.cumtrapz(f,np.sqrt(p),0)\n",
    "plt.plot(a)"
   ]
  },
  {
   "cell_type": "code",
   "execution_count": 27,
   "id": "317a77b4",
   "metadata": {},
   "outputs": [
    {
     "name": "stdout",
     "output_type": "stream",
     "text": [
      "   unique_id         ds      y\n",
      "0        1.0 1949-01-31  112.0\n",
      "1        1.0 1949-02-28  118.0\n",
      "2        1.0 1949-03-31  132.0\n",
      "3        1.0 1949-04-30  129.0\n",
      "4        1.0 1949-05-31  121.0\n"
     ]
    }
   ],
   "source": [
    "from neuralforecast.utils import AirPassengersDF\n",
    "\n",
    "Y_df = AirPassengersDF\n",
    "Y_train_df = Y_df[Y_df.ds<='1959-12-31'] # 132 train\n",
    "Y_test_df = Y_df[Y_df.ds>'1959-12-31'] # 12 test\n",
    "\n",
    "print(Y_df.head(5))"
   ]
  },
  {
   "cell_type": "code",
   "execution_count": 28,
   "id": "68fb78d8",
   "metadata": {},
   "outputs": [
    {
     "name": "stdout",
     "output_type": "stream",
     "text": [
      "0          0\n",
      "1          1\n",
      "2          2\n",
      "3          3\n",
      "4          4\n",
      "          ..\n",
      "122260    34\n",
      "122261    35\n",
      "122262    36\n",
      "122263    37\n",
      "122264    38\n",
      "Name: time, Length: 122265, dtype: int32\n"
     ]
    }
   ],
   "source": [
    "print(train.time)"
   ]
  },
  {
   "cell_type": "code",
   "execution_count": 7,
   "id": "8e6a45e6",
   "metadata": {},
   "outputs": [],
   "source": [
    "from forward_forward import train_with_forward_forward_algorithm\n",
    "import os\n",
    "import torch"
   ]
  },
  {
   "cell_type": "code",
   "execution_count": 220,
   "id": "3aae2e69",
   "metadata": {},
   "outputs": [
    {
     "name": "stderr",
     "output_type": "stream",
     "text": [
      "INFO:hyperspy.extensions:Enabling extension hyperspy-gui-traitsui\n"
     ]
    }
   ],
   "source": [
    "import quandl\n",
    "import pandas as pd\n",
    "import numpy as np\n",
    "import time\n",
    "#import dimod\n",
    "#import openai\n",
    "import networkx as nx\n",
    "from sklearn.impute import SimpleImputer\n",
    "from numba import jit\n",
    "#from dimod import Binary, Integer, ConstrainedQuadraticModel\n",
    "from sklearn import datasets\n",
    "from scipy.special import beta\n",
    "from pgmpy.factors.continuous import ContinuousFactor, RoundingDiscretizer, CanonicalDistribution#,ContinuousNode\n",
    "from pgmpy.factors.distributions import GaussianDistribution as JGD\n",
    "from pgmpy.models import BayesianModel\n",
    "from sklearn.preprocessing import KBinsDiscretizer #this library turns continuous into discrete\n",
    "from pgmpy.models.BayesianModel import BayesianModel, BayesianNetwork\n",
    "from hyperspy.signals import Signal1D,Signal2D\n",
    "from pgmpy.inference import CausalInference\n",
    "#from pgmpy.models import BayesianNetwork\n",
    "from pgmpy.inference import VariableElimination\n",
    "from pgmpy.factors.discrete import TabularCPD\n",
    "from pgmpy.metrics import correlation_score\n",
    "from pgmpy.estimators import ParameterEstimator,BayesianEstimator, BDeuScore, K2Score, BicScore, ExhaustiveSearch\n",
    "from pgmpy.independencies.Independencies import IndependenceAssertion\n",
    "from pgmpy.estimators import TreeSearch\n",
    "from pgmpy.estimators import ExpectationMaximization as EM\n",
    "from hyperspy.signals import Signal1D,Signal2D\n",
    "import matplotlib.pyplot as plt \n",
    "from pgmpy.metrics import log_likelihood_score\n",
    "#from causality.inference.search import IC\n",
    "#from causality.inference.independence_tests import RobustRegressionTest\n",
    "import bnlearn as bn\n",
    "import tigramite\n",
    "from tigramite import data_processing as pp\n",
    "from tigramite.toymodels import structural_causal_processes as toys\n",
    "from tigramite import plotting as tp\n",
    "from tigramite.pcmci import PCMCI\n",
    "from tigramite.lpcmci import LPCMCI\n",
    "from tigramite.independence_tests import ParCorr, GPDC, CMIknn, CMIsymb\n",
    "from tigramite.models import LinearMediation, Prediction\n",
    "from pyro.contrib.cevae import CEVAE as CEVAE\n",
    "from sklearn.model_selection import train_test_split\n",
    "import pyro.distributions as dist\n",
    "from sklearn.decomposition import PCA\n",
    "import torch\n",
    "from sklearn.impute import KNNImputer\n",
    "from sklearn.manifold import TSNE, Isomap\n",
    "from sklearn.preprocessing import MinMaxScaler\n",
    "from sklearn.impute import SimpleImputer\n",
    "from scipy import stats\n",
    "from causalimpact import CausalImpact"
   ]
  },
  {
   "cell_type": "markdown",
   "id": "4e1cfc1d",
   "metadata": {},
   "source": [
    "Idea: what if instead of feeding the time series we take a shapelet of the most representative section of the input data and then do syntetic time series augmentation on it??"
   ]
  },
  {
   "cell_type": "code",
   "execution_count": 7,
   "id": "231ccae9",
   "metadata": {},
   "outputs": [
    {
     "name": "stdout",
     "output_type": "stream",
     "text": [
      "        0     1     2     3     4   ...       21       22       23       24       25\n",
      "0     76.6  78.9  80.6  82.7  85.5  ...  55317.0  58786.0  58731.0  57982.0  62660.0\n",
      "1     74.5  78.1  81.8  85.1  87.9  ...  52562.0  55962.0  58320.0  61756.0  64346.0\n",
      "2     57.2  60.4  60.5  64.6  64.6  ...  33368.0  34186.0  32525.0  34990.0  36422.0\n",
      "3     62.0  66.1  69.2  76.1  74.6  ...  43404.0  45340.0  47542.0  51721.0  54277.0\n",
      "4     65.8  68.5  73.0  79.6  81.0  ...  47412.0  48695.0  49358.0  48922.0  52830.0\n",
      "...    ...   ...   ...   ...   ...  ...      ...      ...      ...      ...      ...\n",
      "3137  82.2  82.4  84.0  86.7  88.4  ...  71083.0  73008.0  74843.0  73384.0  76668.0\n",
      "3138  83.5  85.9  87.1  89.1  90.5  ...  80049.0  83831.0  84678.0  87053.0  94498.0\n",
      "3139  83.8  88.2  89.5  91.4  90.6  ...  54672.0  58235.0  63403.0  72458.0  75106.0\n",
      "3140  76.4  78.3  78.2  82.8  85.4  ...  51362.0  53426.0  54158.0  57306.0  62271.0\n",
      "3141  71.1  73.3  76.8  79.7  81.3  ...  59605.0  52867.0  57031.0  53333.0  65566.0\n",
      "\n",
      "[3142 rows x 26 columns]\n"
     ]
    }
   ],
   "source": [
    "print(census)\n",
    "census = np.array(census)"
   ]
  },
  {
   "cell_type": "code",
   "execution_count": 29,
   "id": "a46a18ae",
   "metadata": {},
   "outputs": [
    {
     "name": "stdout",
     "output_type": "stream",
     "text": [
      "      pct_bb_2017  pct_bb_2018  ...  median_hh_inc_2020  median_hh_inc_2021\n",
      "0             NaN          NaN  ...                 NaN                 NaN\n",
      "1             NaN          NaN  ...                 NaN                 NaN\n",
      "2             NaN          NaN  ...                 NaN                 NaN\n",
      "3             NaN          NaN  ...                 NaN                 NaN\n",
      "4             NaN          NaN  ...                 NaN                 NaN\n",
      "...           ...          ...  ...                 ...                 ...\n",
      "3137          NaN          NaN  ...                 NaN                 NaN\n",
      "3138          NaN          NaN  ...                 NaN                 NaN\n",
      "3139          NaN          NaN  ...                 NaN                 NaN\n",
      "3140          NaN          NaN  ...                 NaN                 NaN\n",
      "3141          NaN          NaN  ...                 NaN                 NaN\n",
      "\n",
      "[3142 rows x 26 columns]\n"
     ]
    }
   ],
   "source": [
    "census = pd.DataFrame(census,columns=[\"pct_bb_2017\", \"pct_bb_2018\", \"pct_bb_2019\", \"pct_bb_2020\", \"pct_bb_2021\", \"cfips\", \"pct_college_2017\", \"pct_college_2018\", \"pct_college_2019\", \"pct_college_2020\", \"pct_college_2021\", \"pct_foreign_born_2017\", \"pct_foreign_born_2018\", \"pct_foreign_born_2019\", \"pct_foreign_born_2020\", \"pct_foreign_born_2021\", \"pct_it_workers_2017\", \"pct_it_workers_2018\", \"pct_it_workers_2019\", \"pct_it_workers_2020\", \"pct_it_workers_2021\", \"median_hh_inc_2017\", \"median_hh_inc_2018\", \"median_hh_inc_2019\", \"median_hh_inc_2020\", \"median_hh_inc_2021\"])\n",
    "print(census)"
   ]
  },
  {
   "cell_type": "code",
   "execution_count": 81,
   "id": "5c192521",
   "metadata": {},
   "outputs": [],
   "source": [
    "from pyrqa.time_series import TimeSeries\n",
    "from pyrqa.settings import Settings\n",
    "from pyrqa.analysis_type import Classic\n",
    "from pyrqa.neighbourhood import FixedRadius\n",
    "from pyrqa.metric import EuclideanMetric\n",
    "from pyrqa.computation import RQAComputation\n",
    "#from tsaug import TimeWarp, Crop, Quantize, Drift, Reverse"
   ]
  },
  {
   "cell_type": "code",
   "execution_count": 93,
   "id": "d2e4bd2b",
   "metadata": {},
   "outputs": [
    {
     "name": "stdout",
     "output_type": "stream",
     "text": [
      "[Platform 'NVIDIA CUDA']\n",
      "Vendor: NVIDIA Corporation\n",
      "Version: OpenCL 3.0 CUDA 12.0.94\n",
      "Profile: FULL_PROFILE\n",
      "Extensions: cl_khr_global_int32_base_atomics cl_khr_global_int32_extended_atomics cl_khr_local_int32_base_atomics cl_khr_local_int32_extended_atomics cl_khr_fp64 cl_khr_3d_image_writes cl_khr_byte_addressable_store cl_khr_icd cl_khr_gl_sharing cl_nv_compiler_options cl_nv_device_attribute_query cl_nv_pragma_unroll cl_nv_d3d10_sharing cl_khr_d3d10_sharing cl_nv_d3d11_sharing cl_nv_copy_opts cl_nv_create_buffer cl_khr_int64_base_atomics cl_khr_int64_extended_atomics cl_khr_device_uuid cl_khr_pci_bus_info cl_khr_external_semaphore cl_khr_external_memory cl_khr_external_semaphore_win32 cl_khr_external_memory_win32\n",
      "\n",
      "\n",
      "[Device 'NVIDIA GeForce RTX 3070 Ti Laptop GPU']\n",
      "Vendor: NVIDIA Corporation\n",
      "Type: 4\n",
      "Version: OpenCL 3.0 CUDA\n",
      "Profile: FULL_PROFILE\n",
      "Max Clock Frequency: 1410\n",
      "Global Mem Size: 8589410304\n",
      "Address Bits: 64\n",
      "Max Compute Units: 46\n",
      "Max Work Group Size: 1024\n",
      "Max Work Item Dimensions: 3\n",
      "Max Work Item Sizes: [1024, 1024, 64]\n",
      "Local Mem Size: 49152\n",
      "Max Mem Alloc Size: 2147352576\n",
      "Extensions: cl_khr_global_int32_base_atomics cl_khr_global_int32_extended_atomics cl_khr_local_int32_base_atomics cl_khr_local_int32_extended_atomics cl_khr_fp64 cl_khr_3d_image_writes cl_khr_byte_addressable_store cl_khr_icd cl_khr_gl_sharing cl_nv_compiler_options cl_nv_device_attribute_query cl_nv_pragma_unroll cl_nv_d3d10_sharing cl_khr_d3d10_sharing cl_nv_d3d11_sharing cl_nv_copy_opts cl_nv_create_buffer cl_khr_int64_base_atomics cl_khr_int64_extended_atomics cl_khr_device_uuid cl_khr_pci_bus_info cl_khr_external_semaphore cl_khr_external_memory cl_khr_external_semaphore_win32 cl_khr_external_memory_win32\n",
      "\n",
      "\n",
      "RQA Result:\n",
      "===========\n",
      "\n",
      "Minimum diagonal line length (L_min): 2\n",
      "Minimum vertical line length (V_min): 2\n",
      "Minimum white vertical line length (W_min): 2\n",
      "\n",
      "Recurrence rate (RR): 1.000000\n",
      "Determinism (DET): 0.998498\n",
      "Average diagonal line length (L): 19.000000\n",
      "Longest diagonal line length (L_max): 36\n",
      "Divergence (DIV): 0.027778\n",
      "Entropy diagonal lines (L_entr): 3.555348\n",
      "Laminarity (LAM): 1.000000\n",
      "Trapping time (TT): 37.000000\n",
      "Longest vertical line length (V_max): 37\n",
      "Entropy vertical lines (V_entr): 0.000000\n",
      "Average white vertical line length (W): nan\n",
      "Longest white vertical line length (W_max): 0\n",
      "Longest white vertical line length inverse (W_div): inf\n",
      "Entropy white vertical lines (W_entr): 0.000000\n",
      "\n",
      "Ratio determinism / recurrence rate (DET/RR): 0.998498\n",
      "Ratio laminarity / determinism (LAM/DET): 1.001504\n",
      "\n"
     ]
    }
   ],
   "source": [
    "a = train['microbusiness_density']\n",
    "closee = a.tail(39)\n",
    "\n",
    "time_series = TimeSeries(closee,\n",
    "                           embedding_dimension=2,\n",
    "                           time_delay=2)\n",
    "settings = Settings(time_series,\n",
    "                      analysis_type=Classic,\n",
    "                      neighbourhood=FixedRadius(0.65),\n",
    "                      similarity_measure=EuclideanMetric,\n",
    "                      theiler_corrector=1)\n",
    "computation = RQAComputation.create(settings,\n",
    "                                      verbose=True)\n",
    "result = computation.run()\n",
    "print(result)\n",
    "\n",
    "#microbusiness density has high recurrence rate and high determinism"
   ]
  },
  {
   "cell_type": "code",
   "execution_count": 8,
   "id": "8f794fd5",
   "metadata": {},
   "outputs": [
    {
     "name": "stdout",
     "output_type": "stream",
     "text": [
      "[Platform 'NVIDIA CUDA']\n",
      "Vendor: NVIDIA Corporation\n",
      "Version: OpenCL 3.0 CUDA 12.0.94\n",
      "Profile: FULL_PROFILE\n",
      "Extensions: cl_khr_global_int32_base_atomics cl_khr_global_int32_extended_atomics cl_khr_local_int32_base_atomics cl_khr_local_int32_extended_atomics cl_khr_fp64 cl_khr_3d_image_writes cl_khr_byte_addressable_store cl_khr_icd cl_khr_gl_sharing cl_nv_compiler_options cl_nv_device_attribute_query cl_nv_pragma_unroll cl_nv_d3d10_sharing cl_khr_d3d10_sharing cl_nv_d3d11_sharing cl_nv_copy_opts cl_nv_create_buffer cl_khr_int64_base_atomics cl_khr_int64_extended_atomics cl_khr_device_uuid cl_khr_pci_bus_info cl_khr_external_semaphore cl_khr_external_memory cl_khr_external_semaphore_win32 cl_khr_external_memory_win32\n",
      "\n",
      "\n",
      "[Device 'NVIDIA GeForce RTX 3070 Ti Laptop GPU']\n",
      "Vendor: NVIDIA Corporation\n",
      "Type: 4\n",
      "Version: OpenCL 3.0 CUDA\n",
      "Profile: FULL_PROFILE\n",
      "Max Clock Frequency: 1410\n",
      "Global Mem Size: 8589410304\n",
      "Address Bits: 64\n",
      "Max Compute Units: 46\n",
      "Max Work Group Size: 1024\n",
      "Max Work Item Dimensions: 3\n",
      "Max Work Item Sizes: [1024, 1024, 64]\n",
      "Local Mem Size: 49152\n",
      "Max Mem Alloc Size: 2147352576\n",
      "Extensions: cl_khr_global_int32_base_atomics cl_khr_global_int32_extended_atomics cl_khr_local_int32_base_atomics cl_khr_local_int32_extended_atomics cl_khr_fp64 cl_khr_3d_image_writes cl_khr_byte_addressable_store cl_khr_icd cl_khr_gl_sharing cl_nv_compiler_options cl_nv_device_attribute_query cl_nv_pragma_unroll cl_nv_d3d10_sharing cl_khr_d3d10_sharing cl_nv_d3d11_sharing cl_nv_copy_opts cl_nv_create_buffer cl_khr_int64_base_atomics cl_khr_int64_extended_atomics cl_khr_device_uuid cl_khr_pci_bus_info cl_khr_external_semaphore cl_khr_external_memory cl_khr_external_semaphore_win32 cl_khr_external_memory_win32\n",
      "\n",
      "\n",
      "RQA Result:\n",
      "===========\n",
      "\n",
      "Minimum diagonal line length (L_min): 2\n",
      "Minimum vertical line length (V_min): 2\n",
      "Minimum white vertical line length (W_min): 2\n",
      "\n",
      "Recurrence rate (RR): 0.035714\n",
      "Determinism (DET): nan\n",
      "Average diagonal line length (L): nan\n",
      "Longest diagonal line length (L_max): 0\n",
      "Divergence (DIV): inf\n",
      "Entropy diagonal lines (L_entr): 0.000000\n",
      "Laminarity (LAM): 0.000000\n",
      "Trapping time (TT): nan\n",
      "Longest vertical line length (V_max): 1\n",
      "Entropy vertical lines (V_entr): 0.000000\n",
      "Average white vertical line length (W): 14.500000\n",
      "Longest white vertical line length (W_max): 27\n",
      "Longest white vertical line length inverse (W_div): 0.037037\n",
      "Entropy white vertical lines (W_entr): 3.258096\n",
      "\n",
      "Ratio determinism / recurrence rate (DET/RR): nan\n",
      "Ratio laminarity / determinism (LAM/DET): nan\n",
      "\n"
     ]
    }
   ],
   "source": [
    "a = train['active']\n",
    "a = a.fillna(0)\n",
    "closee = a.head(30)\n",
    "\n",
    "time_series = TimeSeries(closee,\n",
    "                           embedding_dimension=2,\n",
    "                           time_delay=2)\n",
    "settings = Settings(time_series,\n",
    "                      analysis_type=Classic,\n",
    "                      neighbourhood=FixedRadius(0.65),\n",
    "                      similarity_measure=EuclideanMetric,\n",
    "                      theiler_corrector=1)\n",
    "computation = RQAComputation.create(settings,\n",
    "                                      verbose=True)\n",
    "result = computation.run()\n",
    "print(result)\n",
    "\n",
    "#active has a recurrence rate of 0.0357"
   ]
  },
  {
   "cell_type": "code",
   "execution_count": 94,
   "id": "43f7e662",
   "metadata": {},
   "outputs": [
    {
     "name": "stdout",
     "output_type": "stream",
     "text": [
      "0.722359497649243\n"
     ]
    }
   ],
   "source": [
    "import nolds\n",
    "h = nolds.hurst_rs(closee)\n",
    "print(h)\n"
   ]
  },
  {
   "cell_type": "code",
   "execution_count": 95,
   "id": "d62f061d",
   "metadata": {},
   "outputs": [],
   "source": [
    "from scipy import signal\n",
    "from scipy import integrate"
   ]
  },
  {
   "cell_type": "code",
   "execution_count": 96,
   "id": "711b1184",
   "metadata": {},
   "outputs": [],
   "source": [
    "dd = np.ravel(closee)#data_to_predict)\n",
    "p,f = signal.periodogram(dd)\n",
    "a = integrate.cumtrapz(f,np.sqrt(p),0)"
   ]
  },
  {
   "cell_type": "code",
   "execution_count": 97,
   "id": "04ccc9fb",
   "metadata": {},
   "outputs": [
    {
     "data": {
      "text/plain": [
       "[<matplotlib.lines.Line2D at 0x2131e18b250>]"
      ]
     },
     "execution_count": 97,
     "metadata": {},
     "output_type": "execute_result"
    },
    {
     "data": {
      "image/png": "[encoded data removed]",
      "text/plain": [
       "<Figure size 432x288 with 1 Axes>"
      ]
     },
     "metadata": {},
     "output_type": "display_data"
    }
   ],
   "source": [
    "import matplotlib.pyplot as plt\n",
    "plt.plot(a)"
   ]
  },
  {
   "cell_type": "markdown",
   "id": "9f559315",
   "metadata": {},
   "source": [
    "both microbusiness density and active appear to be consistent with a lorenz system"
   ]
  },
  {
   "cell_type": "code",
   "execution_count": 6,
   "id": "06c77efd",
   "metadata": {},
   "outputs": [
    {
     "name": "stderr",
     "output_type": "stream",
     "text": [
      "C:\\Users\\subar\\anaconda3\\envs\\d\\lib\\site-packages\\scipy\\__init__.py:146: UserWarning: A NumPy version >=1.16.5 and <1.23.0 is required for this version of SciPy (detected version 1.23.4\n",
      "  warnings.warn(f\"A NumPy version >={np_minversion} and <{np_maxversion}\"\n"
     ]
    }
   ],
   "source": [
    "from sklearn.preprocessing import MinMaxScaler\n",
    "scaler = MinMaxScaler((0,1))"
   ]
  },
  {
   "cell_type": "code",
   "execution_count": 98,
   "id": "1811f486",
   "metadata": {},
   "outputs": [
    {
     "name": "stderr",
     "output_type": "stream",
     "text": [
      "INFO:numba.cuda.cudadrv.driver:init\n",
      "INFO:numba.cuda.cudadrv.driver:add pending dealloc: cuMemFree_v2 232 bytes\n",
      "INFO:numba.cuda.cudadrv.driver:add pending dealloc: cuMemFree_v2 232 bytes\n",
      "INFO:numba.cuda.cudadrv.driver:add pending dealloc: cuMemFree_v2 232 bytes\n",
      "INFO:numba.cuda.cudadrv.driver:add pending dealloc: cuMemFree_v2 304 bytes\n",
      "INFO:numba.cuda.cudadrv.driver:add pending dealloc: cuMemFree_v2 232 bytes\n",
      "INFO:numba.cuda.cudadrv.driver:add pending dealloc: cuMemFree_v2 232 bytes\n",
      "INFO:numba.cuda.cudadrv.driver:add pending dealloc: cuMemFree_v2 696 bytes\n",
      "INFO:numba.cuda.cudadrv.driver:add pending dealloc: cuMemFree_v2 696 bytes\n"
     ]
    },
    {
     "name": "stdout",
     "output_type": "stream",
     "text": [
      "15\n",
      "The nearest neighbor is located at index 25\n"
     ]
    }
   ],
   "source": [
    "import stumpy\n",
    "import numpy as np\n",
    "a = train.head(38)\n",
    "m = 10\n",
    "mp = stumpy.gpu_stump(a['microbusiness_density'], m)\n",
    "motif_idx = np.argsort(mp[:, 0])[0]\n",
    "print(motif_idx)\n",
    "nearest_neighbor_idx = mp[motif_idx, 1]\n",
    "\n",
    "print(f\"The nearest neighbor is located at index {nearest_neighbor_idx}\")"
   ]
  },
  {
   "cell_type": "markdown",
   "id": "38b964cd",
   "metadata": {},
   "source": [
    "Suspended We will resume work on this Saturday Febuary 4th 2023"
   ]
  },
  {
   "cell_type": "code",
   "execution_count": 99,
   "id": "84fce120",
   "metadata": {},
   "outputs": [
    {
     "data": {
      "image/png": "[encoded data removed]",
      "text/plain": [
       "<Figure size 432x288 with 2 Axes>"
      ]
     },
     "metadata": {},
     "output_type": "display_data"
    }
   ],
   "source": [
    "import matplotlib.pyplot as plt\n",
    "from matplotlib.patches import Rectangle\n",
    "fig, axs = plt.subplots(2, sharex=True, gridspec_kw={'hspace': 0})\n",
    "plt.suptitle('Motif (Pattern) Discovery', fontsize='30')\n",
    "\n",
    "axs[0].plot(a['microbusiness_density'].values)\n",
    "axs[0].set_ylabel('Steam Flow', fontsize='20')\n",
    "rect = Rectangle((motif_idx, 0), m, 40, facecolor='lightgrey')\n",
    "axs[0].add_patch(rect)\n",
    "rect = Rectangle((nearest_neighbor_idx, 0), m, 40, facecolor='lightgrey')\n",
    "axs[0].add_patch(rect)\n",
    "axs[1].set_xlabel('Time', fontsize ='20')\n",
    "axs[1].set_ylabel('Matrix Profile', fontsize='20')\n",
    "axs[1].axvline(x=motif_idx, linestyle=\"dashed\")\n",
    "axs[1].axvline(x=nearest_neighbor_idx, linestyle=\"dashed\")\n",
    "axs[1].plot(mp[:, 0])\n",
    "plt.show()"
   ]
  },
  {
   "cell_type": "code",
   "execution_count": 18,
   "id": "3e898993",
   "metadata": {},
   "outputs": [
    {
     "name": "stdout",
     "output_type": "stream",
     "text": [
      "15\n"
     ]
    }
   ],
   "source": [
    "import stumpy\n",
    "import numpy as np\n",
    "a = train.head(38)\n",
    "m = 10\n",
    "mp = stumpy.gpu_stump(a['active'].astype(np.float64), m)\n",
    "motif_idx = np.argsort(mp[:, 0])[0]\n",
    "print(motif_idx)"
   ]
  },
  {
   "cell_type": "code",
   "execution_count": 19,
   "id": "5d235062",
   "metadata": {},
   "outputs": [
    {
     "name": "stdout",
     "output_type": "stream",
     "text": [
      "The nearest neighbor is located at index 25\n"
     ]
    }
   ],
   "source": [
    "nearest_neighbor_idx = mp[motif_idx, 1]\n",
    "\n",
    "print(f\"The nearest neighbor is located at index {nearest_neighbor_idx}\")"
   ]
  },
  {
   "cell_type": "code",
   "execution_count": 20,
   "id": "c61bae4d",
   "metadata": {},
   "outputs": [
    {
     "data": {
      "image/png": "[encoded data removed]",
      "text/plain": [
       "<Figure size 432x288 with 2 Axes>"
      ]
     },
     "metadata": {},
     "output_type": "display_data"
    }
   ],
   "source": [
    "import matplotlib.pyplot as plt\n",
    "from matplotlib.patches import Rectangle\n",
    "fig, axs = plt.subplots(2, sharex=True, gridspec_kw={'hspace': 0})\n",
    "plt.suptitle('Motif (Pattern) Discovery', fontsize='30')\n",
    "\n",
    "axs[0].plot(a['active'].values)\n",
    "axs[0].set_ylabel('Steam Flow', fontsize='20')\n",
    "rect = Rectangle((motif_idx, 0), m, 40, facecolor='lightgrey')\n",
    "axs[0].add_patch(rect)\n",
    "rect = Rectangle((nearest_neighbor_idx, 0), m, 40, facecolor='lightgrey')\n",
    "axs[0].add_patch(rect)\n",
    "axs[1].set_xlabel('Time', fontsize ='20')\n",
    "axs[1].set_ylabel('Matrix Profile', fontsize='20')\n",
    "axs[1].axvline(x=motif_idx, linestyle=\"dashed\")\n",
    "axs[1].axvline(x=nearest_neighbor_idx, linestyle=\"dashed\")\n",
    "axs[1].plot(mp[:, 0])\n",
    "plt.show()"
   ]
  },
  {
   "cell_type": "code",
   "execution_count": 100,
   "id": "17fa07a9",
   "metadata": {},
   "outputs": [],
   "source": [
    "L = 10\n",
    "cac, regime_locations = stumpy.fluss(mp[:, 1], L=L, n_regimes=3, excl_factor=1)"
   ]
  },
  {
   "cell_type": "code",
   "execution_count": 101,
   "id": "cee329d1",
   "metadata": {},
   "outputs": [
    {
     "data": {
      "image/png": "[encoded data removed]",
      "text/plain": [
       "<Figure size 432x288 with 2 Axes>"
      ]
     },
     "metadata": {},
     "output_type": "display_data"
    }
   ],
   "source": [
    "fig, axs = plt.subplots(2, sharex=True, gridspec_kw={'hspace': 0})\n",
    "axs[0].plot(range(a['active'].shape[0]), a['active'].values)\n",
    "axs[0].axvline(x=regime_locations[0], linestyle=\"dashed\")\n",
    "axs[1].plot(range(cac.shape[0]), cac, color='C1')\n",
    "axs[1].axvline(x=regime_locations[0], linestyle=\"dashed\")\n",
    "plt.show()"
   ]
  },
  {
   "cell_type": "markdown",
   "id": "20dcc8a0",
   "metadata": {},
   "source": [
    "no detectable regieme change"
   ]
  },
  {
   "cell_type": "code",
   "execution_count": 3,
   "id": "48003190",
   "metadata": {},
   "outputs": [
    {
     "name": "stdout",
     "output_type": "stream",
     "text": [
      "Index(['row_id', 'cfips', 'county', 'state', 'first_day_of_month',\n",
      "       'microbusiness_density', 'active'],\n",
      "      dtype='object')\n",
      "(122265,)\n",
      "(122265,)\n",
      "0         0.000000\n",
      "1        -0.040833\n",
      "2         0.059265\n",
      "3        -0.020489\n",
      "4         0.000000\n",
      "            ...   \n",
      "122260    0.000000\n",
      "122261    0.000000\n",
      "122262   -0.009901\n",
      "122263    0.000000\n",
      "122264    0.000000\n",
      "Name: microbusiness_density, Length: 122265, dtype: float64\n",
      "(122265,)\n",
      "(122265,)\n"
     ]
    },
    {
     "name": "stderr",
     "output_type": "stream",
     "text": [
      "divide by zero encountered in log\n"
     ]
    }
   ],
   "source": [
    "#X=np.array(train['microbusiness_density']).reshape(-1, 1)\n",
    "#y=np.array(train['active']).reshape(-1, 1)\n",
    "#scaler.fit(X=X,y=y)\n",
    "#a = scaler.transform(X=X)\n",
    "#b = scaler.transform(X=y)\n",
    "\n",
    "columns = train.columns\n",
    "print(columns)\n",
    "b = train['microbusiness_density'].pct_change()\n",
    "c = train['active']\n",
    "#b = np.array(b)\n",
    "print(b.shape)\n",
    "print(c.shape)\n",
    "#b = np.log(b)\n",
    "c= np.log(c)\n",
    "b = b.fillna(0)\n",
    "print(b)\n",
    "print(b.shape)\n",
    "print(c.shape)\n",
    "c = np.array(c)\n",
    "#b = np.array(b)\n",
    "#b = b.reshape(-1, 1)\n",
    "c = c.reshape(-1, 1)\n",
    "\n",
    "#rain = train.drop(['microbusiness_density','active'],1)"
   ]
  },
  {
   "cell_type": "markdown",
   "id": "f472a1c1",
   "metadata": {},
   "source": [
    "both hurst and dfa seem to indicate that active exhibits long term dependence"
   ]
  },
  {
   "cell_type": "markdown",
   "id": "4765b4ff",
   "metadata": {},
   "source": [
    "usually data distributional shift is something that would need to be taken into account. However in this case since we only have monthly data over 2 years we do not need to account for this"
   ]
  },
  {
   "cell_type": "code",
   "execution_count": null,
   "id": "05ea0d99",
   "metadata": {},
   "outputs": [],
   "source": [
    "import quandl\n",
    "\n",
    "x1 = quandl.get(\"YALE/SPCOMP\", authtoken=\"DNMZo2iRzVENxpxqHBKF\", transform=\"rdiff\", collapse=\"monthly\", start_date=\"1959-09-30\", end_date=\"2020-09-30\")\n",
    "x2 = quandl.get(\"FRED/GDP\", authtoken=\"DNMZo2iRzVENxpxqHBKF\", transform=\"rdiff\", collapse=\"monthly\", start_date=\"1960-01-01\", end_date=\"2021-03-31\")\n",
    "DESPAIR = quandl.get(\"USMISERY/INDEX\", authtoken=\"DNMZo2iRzVENxpxqHBKF\", transform=\"rdiff\", collapse=\"monthly\", start_date=\"1959-09-30\", end_date=\"2020-09-30\")\n",
    "clf_xgb = XGBClassifier(n_estimators=150, random_state=0, verbosity=0, n_jobs=12)\n",
    "model = BoostRFA(\n",
    "    clf_xgb, param_grid=param_dist_hyperopt, min_features_to_select=1, step=1,\n",
    "    n_iter=50, sampling_seed=0\n",
    ")\n",
    "BoostBoruta(estimator,alpha=0.05,verbose=1,n_jobs=12)\n",
    "model.fit(\n",
    "    X_regr_train, y_regr_train, trials=Trials(), \n",
    "    eval_set=[(X_regr_valid, y_regr_valid)], early_stopping_rounds=6, verbose=0\n",
    ")"
   ]
  },
  {
   "cell_type": "code",
   "execution_count": null,
   "id": "de5d27c5",
   "metadata": {},
   "outputs": [],
   "source": [
    "BoostRFE(  \n",
    "    estimator,                              # LGBModel or XGBModel\n",
    "    min_features_to_select=None,            # the minimum number of features to be selected  \n",
    "    step=1,                                 # number of features to remove at each iteration  \n",
    "    param_grid=None,                        # parameters to be optimized  \n",
    "    greater_is_better=False,                # minimize or maximize the monitored score  \n",
    "    importance_type='feature_importances',  # which importance measure to use: default or shap  \n",
    "    train_importance=True,                  # where to compute the shap feature importance  \n",
    "    n_iter=None,                            # number of sampled parameter configurations  \n",
    "    sampling_seed=None,                     # the seed used for parameter sampling  \n",
    "    verbose=1,                              # verbosity mode  \n",
    "    n_jobs=None                             # number of jobs to run in parallel  \n",
    ")  "
   ]
  },
  {
   "cell_type": "code",
   "execution_count": 9,
   "id": "dcf7d01f",
   "metadata": {},
   "outputs": [
    {
     "name": "stderr",
     "output_type": "stream",
     "text": [
      "INFO:gluonts.mx.context:Using CPU\n"
     ]
    },
    {
     "name": "stdout",
     "output_type": "stream",
     "text": [
      "Empty DataFrame\n",
      "Columns: [row_id, cfips, county, state, first_day_of_month, microbusiness_density, active]\n",
      "Index: []\n"
     ]
    }
   ],
   "source": [
    "from gluonts.dataset.pandas import PandasDataset\n",
    "\n",
    "from gluonts.mx import DeepAREstimator, Trainer, TemporalFusionTransformerEstimator\n",
    "columns = train.columns\n",
    "#train = pd.DataFrame(train)\n",
    "#train = pd.concat([train,a,b],1,ignore_index=True)\n",
    "train = pd.DataFrame(train,columns=columns)\n",
    "print(train.head(0))\n",
    "ds = PandasDataset.from_long_dataframe(train, target=\"active\", item_id=\"cfips\",feat_dynamic_cat=['county', 'state']) "
   ]
  },
  {
   "cell_type": "code",
   "execution_count": 15,
   "id": "45d5a7bc",
   "metadata": {},
   "outputs": [
    {
     "name": "stderr",
     "output_type": "stream",
     "text": [
      "INFO:gluonts.trainer:Start model training\n",
      "INFO:gluonts.trainer:Epoch[0] Learning rate is 0.1\n",
      "  0%|          | 0/50 [00:00<?, ?it/s]INFO:gluonts.trainer:Number of parameters in TemporalFusionTransformerTrainingNetwork: 108856\n",
      "100%|██████████| 50/50 [00:03<00:00, 16.54it/s, epoch=1/50, avg_epoch_loss=36.8]\n",
      "INFO:gluonts.trainer:Epoch[0] Elapsed time 3.025 seconds\n",
      "INFO:gluonts.trainer:Epoch[0] Evaluation metric 'epoch_loss'=36.824459\n",
      "INFO:gluonts.trainer:Epoch[1] Learning rate is 0.1\n",
      "100%|██████████| 50/50 [00:03<00:00, 13.92it/s, epoch=2/50, avg_epoch_loss=84.7]\n",
      "INFO:gluonts.trainer:Epoch[1] Elapsed time 3.596 seconds\n",
      "INFO:gluonts.trainer:Epoch[1] Evaluation metric 'epoch_loss'=84.730903\n",
      "INFO:gluonts.trainer:Epoch[2] Learning rate is 0.1\n",
      "100%|██████████| 50/50 [00:03<00:00, 14.18it/s, epoch=3/50, avg_epoch_loss=37.1]\n",
      "INFO:gluonts.trainer:Epoch[2] Elapsed time 3.530 seconds\n",
      "INFO:gluonts.trainer:Epoch[2] Evaluation metric 'epoch_loss'=37.095727\n",
      "INFO:gluonts.trainer:Epoch[3] Learning rate is 0.1\n",
      "100%|██████████| 50/50 [00:03<00:00, 14.06it/s, epoch=4/50, avg_epoch_loss=28.9]\n",
      "INFO:gluonts.trainer:Epoch[3] Elapsed time 3.559 seconds\n",
      "INFO:gluonts.trainer:Epoch[3] Evaluation metric 'epoch_loss'=28.854343\n",
      "INFO:gluonts.trainer:Epoch[4] Learning rate is 0.1\n",
      "100%|██████████| 50/50 [00:03<00:00, 14.20it/s, epoch=5/50, avg_epoch_loss=59.2]\n",
      "INFO:gluonts.trainer:Epoch[4] Elapsed time 3.523 seconds\n",
      "INFO:gluonts.trainer:Epoch[4] Evaluation metric 'epoch_loss'=59.156555\n",
      "INFO:gluonts.trainer:Epoch[5] Learning rate is 0.1\n",
      "100%|██████████| 50/50 [00:02<00:00, 16.91it/s, epoch=6/50, avg_epoch_loss=39.5]\n",
      "INFO:gluonts.trainer:Epoch[5] Elapsed time 2.960 seconds\n",
      "INFO:gluonts.trainer:Epoch[5] Evaluation metric 'epoch_loss'=39.451049\n",
      "INFO:gluonts.trainer:Epoch[6] Learning rate is 0.1\n",
      "100%|██████████| 50/50 [00:03<00:00, 15.29it/s, epoch=7/50, avg_epoch_loss=55.9]\n",
      "INFO:gluonts.trainer:Epoch[6] Elapsed time 3.271 seconds\n",
      "INFO:gluonts.trainer:Epoch[6] Evaluation metric 'epoch_loss'=55.885316\n",
      "INFO:gluonts.trainer:Epoch[7] Learning rate is 0.1\n",
      "100%|██████████| 50/50 [00:03<00:00, 13.47it/s, epoch=8/50, avg_epoch_loss=75.5]\n",
      "INFO:gluonts.trainer:Epoch[7] Elapsed time 3.713 seconds\n",
      "INFO:gluonts.trainer:Epoch[7] Evaluation metric 'epoch_loss'=75.530496\n",
      "INFO:gluonts.trainer:Epoch[8] Learning rate is 0.1\n",
      "100%|██████████| 50/50 [00:05<00:00,  8.79it/s, epoch=9/50, avg_epoch_loss=63.1]\n",
      "INFO:gluonts.trainer:Epoch[8] Elapsed time 5.692 seconds\n",
      "INFO:gluonts.trainer:Epoch[8] Evaluation metric 'epoch_loss'=63.090982\n",
      "INFO:gluonts.trainer:Epoch[9] Learning rate is 0.1\n",
      "100%|██████████| 50/50 [00:05<00:00,  9.25it/s, epoch=10/50, avg_epoch_loss=40.5]\n",
      "INFO:gluonts.trainer:Epoch[9] Elapsed time 5.406 seconds\n",
      "INFO:gluonts.trainer:Epoch[9] Evaluation metric 'epoch_loss'=40.501874\n",
      "INFO:gluonts.trainer:Epoch[10] Learning rate is 0.1\n",
      "100%|██████████| 50/50 [00:05<00:00,  8.98it/s, epoch=11/50, avg_epoch_loss=39.4]\n",
      "INFO:gluonts.trainer:Epoch[10] Elapsed time 5.568 seconds\n",
      "INFO:gluonts.trainer:Epoch[10] Evaluation metric 'epoch_loss'=39.392132\n",
      "INFO:gluonts.trainer:Epoch[11] Learning rate is 0.1\n",
      "100%|██████████| 50/50 [00:05<00:00,  8.61it/s, epoch=12/50, avg_epoch_loss=67]  \n",
      "INFO:gluonts.trainer:Epoch[11] Elapsed time 5.812 seconds\n",
      "INFO:gluonts.trainer:Epoch[11] Evaluation metric 'epoch_loss'=67.021390\n",
      "INFO:gluonts.trainer:Epoch[12] Learning rate is 0.1\n",
      "100%|██████████| 50/50 [00:06<00:00,  8.29it/s, epoch=13/50, avg_epoch_loss=76.5]  \n",
      "INFO:gluonts.trainer:Epoch[12] Elapsed time 6.034 seconds\n",
      "INFO:gluonts.trainer:Epoch[12] Evaluation metric 'epoch_loss'=76.462656\n",
      "INFO:gluonts.trainer:Epoch[13] Learning rate is 0.1\n",
      "100%|██████████| 50/50 [00:04<00:00, 12.10it/s, epoch=14/50, avg_epoch_loss=69.4]\n",
      "INFO:gluonts.trainer:Epoch[13] Elapsed time 4.137 seconds\n",
      "INFO:gluonts.trainer:Epoch[13] Evaluation metric 'epoch_loss'=69.366412\n",
      "INFO:gluonts.trainer:Epoch[14] Learning rate is 0.05\n",
      "100%|██████████| 50/50 [00:02<00:00, 19.66it/s, epoch=15/50, avg_epoch_loss=26.5]\n",
      "INFO:gluonts.trainer:Epoch[14] Elapsed time 2.545 seconds\n",
      "INFO:gluonts.trainer:Epoch[14] Evaluation metric 'epoch_loss'=26.499344\n",
      "INFO:gluonts.trainer:Epoch[15] Learning rate is 0.05\n",
      "100%|██████████| 50/50 [00:02<00:00, 17.20it/s, epoch=16/50, avg_epoch_loss=39.7]\n",
      "INFO:gluonts.trainer:Epoch[15] Elapsed time 2.910 seconds\n",
      "INFO:gluonts.trainer:Epoch[15] Evaluation metric 'epoch_loss'=39.700861\n",
      "INFO:gluonts.trainer:Epoch[16] Learning rate is 0.05\n",
      " 78%|███████▊  | 39/50 [00:03<00:00, 12.31it/s, epoch=17/50, avg_epoch_loss=17.8]\n",
      "Detected KeyboardInterrupt, attempting graceful shutdown...\n",
      "INFO:root:Computing averaged parameters.\n",
      "INFO:root:Loading averaged parameters.\n",
      "INFO:gluonts.trainer:End model training\n"
     ]
    }
   ],
   "source": [
    "estimator = TemporalFusionTransformerEstimator(\n",
    "    freq='M', prediction_length=1, trainer=Trainer(epochs=50,learning_rate=0.1,),\n",
    ")\n",
    "predictor = estimator.train(ds)"
   ]
  },
  {
   "cell_type": "code",
   "execution_count": 73,
   "id": "f01bd2fd",
   "metadata": {},
   "outputs": [
    {
     "name": "stderr",
     "output_type": "stream",
     "text": [
      "100%|██████████| 50/50 [00:01<00:00, 33.46it/s, epoch=1/3, avg_epoch_loss=1.32]\n",
      "100%|██████████| 50/50 [00:01<00:00, 33.34it/s, epoch=2/3, avg_epoch_loss=-.0371]  \n",
      "100%|██████████| 50/50 [00:01<00:00, 35.82it/s, epoch=3/3, avg_epoch_loss=-.488] \n"
     ]
    }
   ],
   "source": [
    "from gluonts.mx import DeepAREstimator, Trainer, TemporalFusionTransformerEstimator\n",
    "\"\"\"\n",
    "estimator = TemporalFusionTransformerEstimator(\n",
    "    freq='M', prediction_length=1, trainer=Trainer(epochs=50)\n",
    ")\n",
    "predictor = estimator.train(ds)\n",
    "\"\"\"\n",
    "\n",
    "estimator = DeepAREstimator(\n",
    "    freq='M', prediction_length=1, trainer=Trainer(epochs=3)\n",
    ")\n",
    "predictor = estimator.train(ds)\n"
   ]
  },
  {
   "cell_type": "code",
   "execution_count": 85,
   "id": "7e6d0ec9",
   "metadata": {},
   "outputs": [],
   "source": [
    "from gluonts.evaluation import make_evaluation_predictions\n",
    "test = pd.read_csv('D:\\\\KaggleData\\\\microbuisness\\\\test.csv')\n",
    "test = PandasDataset.from_long_dataframe(train, item_id=\"cfips\",feat_dynamic_cat=['county', 'state']) \n",
    "forecast_it, ts_it = make_evaluation_predictions(\n",
    "    dataset=test,  # test dataset\n",
    "    predictor=predictor,  # predictor\n",
    "    num_samples=10,  # number of sample paths we want for evaluation\n",
    ")"
   ]
  },
  {
   "cell_type": "code",
   "execution_count": 87,
   "id": "c6121856",
   "metadata": {},
   "outputs": [
    {
     "ename": "KeyError",
     "evalue": "'target'",
     "output_type": "error",
     "traceback": [
      "Traceback \u001b[1;36m(most recent call last)\u001b[0m:\n",
      "  File \u001b[0;32m\"C:\\Users\\subar\\anaconda3\\envs\\d\\lib\\site-packages\\pandas\\core\\indexes\\base.py\"\u001b[0m, line \u001b[0;32m3803\u001b[0m, in \u001b[0;35mget_loc\u001b[0m\n    return self._engine.get_loc(casted_key)\n",
      "  File \u001b[0;32m\"pandas\\_libs\\index.pyx\"\u001b[0m, line \u001b[0;32m138\u001b[0m, in \u001b[0;35mpandas._libs.index.IndexEngine.get_loc\u001b[0m\n",
      "  File \u001b[0;32m\"pandas\\_libs\\index.pyx\"\u001b[0m, line \u001b[0;32m162\u001b[0m, in \u001b[0;35mpandas._libs.index.IndexEngine.get_loc\u001b[0m\n",
      "  File \u001b[0;32m\"pandas\\_libs\\index.pyx\"\u001b[0m, line \u001b[0;32m203\u001b[0m, in \u001b[0;35mpandas._libs.index.IndexEngine._get_loc_duplicates\u001b[0m\n",
      "  File \u001b[0;32m\"pandas\\_libs\\index.pyx\"\u001b[0m, line \u001b[0;32m211\u001b[0m, in \u001b[0;35mpandas._libs.index.IndexEngine._maybe_get_bool_indexer\u001b[0m\n",
      "\u001b[1;36m  File \u001b[1;32m\"pandas\\_libs\\index.pyx\"\u001b[1;36m, line \u001b[1;32m107\u001b[1;36m, in \u001b[1;35mpandas._libs.index._unpack_bool_indexer\u001b[1;36m\u001b[0m\n",
      "\u001b[1;31mKeyError\u001b[0m\u001b[1;31m:\u001b[0m 'target'\n",
      "\nThe above exception was the direct cause of the following exception:\n",
      "Traceback \u001b[1;36m(most recent call last)\u001b[0m:\n",
      "  File \u001b[0;32m\"C:\\Users\\subar\\AppData\\Local\\Temp\\ipykernel_38172\\1558917539.py\"\u001b[0m, line \u001b[0;32m4\u001b[0m, in \u001b[0;35m<module>\u001b[0m\n    tss = list(ts_it)\n",
      "  File \u001b[0;32m\"C:\\Users\\subar\\anaconda3\\envs\\d\\lib\\site-packages\\gluonts\\dataset\\split.py\"\u001b[0m, line \u001b[0;32m400\u001b[0m, in \u001b[0;35m__iter__\u001b[0m\n    yield from self.splitter.generate_test_pairs(\n",
      "  File \u001b[0;32m\"C:\\Users\\subar\\anaconda3\\envs\\d\\lib\\site-packages\\gluonts\\dataset\\split.py\"\u001b[0m, line \u001b[0;32m271\u001b[0m, in \u001b[0;35mgenerate_test_pairs\u001b[0m\n    for entry in dataset:\n",
      "  File \u001b[0;32m\"C:\\Users\\subar\\anaconda3\\envs\\d\\lib\\site-packages\\gluonts\\dataset\\pandas.py\"\u001b[0m, line \u001b[0;32m173\u001b[0m, in \u001b[0;35m__iter__\u001b[0m\n    for entry in self._data_entries:\n",
      "  File \u001b[0;32m\"C:\\Users\\subar\\anaconda3\\envs\\d\\lib\\site-packages\\gluonts\\dataset\\pandas.py\"\u001b[0m, line \u001b[0;32m156\u001b[0m, in \u001b[0;35m_pair_to_dataentry\u001b[0m\n    data_entry = as_dataentry(\n",
      "  File \u001b[0;32m\"C:\\Users\\subar\\anaconda3\\envs\\d\\lib\\site-packages\\gluonts\\dataset\\pandas.py\"\u001b[0m, line \u001b[0;32m298\u001b[0m, in \u001b[0;35mas_dataentry\u001b[0m\n    dataentry[FieldName.TARGET] = extract_dynamic_array(data, target)\n",
      "  File \u001b[0;32m\"C:\\Users\\subar\\anaconda3\\envs\\d\\lib\\site-packages\\gluonts\\dataset\\pandas.py\"\u001b[0m, line \u001b[0;32m241\u001b[0m, in \u001b[0;35mextract_dynamic_array\u001b[0m\n    return df[col_names].values.transpose()\n",
      "  File \u001b[0;32m\"C:\\Users\\subar\\anaconda3\\envs\\d\\lib\\site-packages\\pandas\\core\\frame.py\"\u001b[0m, line \u001b[0;32m3805\u001b[0m, in \u001b[0;35m__getitem__\u001b[0m\n    indexer = self.columns.get_loc(key)\n",
      "\u001b[1;36m  File \u001b[1;32m\"C:\\Users\\subar\\anaconda3\\envs\\d\\lib\\site-packages\\pandas\\core\\indexes\\base.py\"\u001b[1;36m, line \u001b[1;32m3805\u001b[1;36m, in \u001b[1;35mget_loc\u001b[1;36m\u001b[0m\n\u001b[1;33m    raise KeyError(key) from err\u001b[0m\n",
      "\u001b[1;31mKeyError\u001b[0m\u001b[1;31m:\u001b[0m 'target'\n"
     ]
    }
   ],
   "source": [
    "import matplotlib.pyplot as plt\n",
    "\n",
    "forecasts = list(forecast_it)\n",
    "tss = list(ts_it)\n",
    "#forecast_entry = forecasts[0]\n",
    "#print(tss)\n",
    "#plt.plot(forecast_entry)"
   ]
  },
  {
   "cell_type": "code",
   "execution_count": 18,
   "id": "3971e953",
   "metadata": {},
   "outputs": [
    {
     "name": "stdout",
     "output_type": "stream",
     "text": [
      "2019-08-01\n",
      "2022-10-01\n"
     ]
    }
   ],
   "source": [
    "print(train['first_day_of_month'].min())\n",
    "print(train[\"first_day_of_month\"].max())\n",
    "print(122265/38)\n",
    "#38 from 8/1/2019 to 10/1/2022"
   ]
  },
  {
   "cell_type": "code",
   "execution_count": 12,
   "id": "47a52d1e",
   "metadata": {},
   "outputs": [
    {
     "name": "stdout",
     "output_type": "stream",
     "text": [
      "         time\n",
      "0           0\n",
      "1           1\n",
      "2           2\n",
      "3           3\n",
      "4           4\n",
      "...       ...\n",
      "2091667    33\n",
      "2091668    34\n",
      "2091669    35\n",
      "2091670    36\n",
      "2091671    37\n",
      "\n",
      "[2091672 rows x 1 columns]\n"
     ]
    }
   ],
   "source": [
    "import numpy as np\n",
    "import pandas as pd\n",
    "date = np.tile(np.arange(38), 55044)\n",
    "date = date.reshape(-1, 1)\n",
    "date = pd.DataFrame(date,columns=['time'])\n",
    "print(date)"
   ]
  },
  {
   "cell_type": "code",
   "execution_count": 11,
   "id": "8bf141c8",
   "metadata": {},
   "outputs": [
    {
     "name": "stderr",
     "output_type": "stream",
     "text": [
      "Global seed set to 42\n"
     ]
    }
   ],
   "source": [
    "import pytorch_lightning as pl\n",
    "from pytorch_lightning.callbacks import EarlyStopping\n",
    "import torch\n",
    "from sklearn import preprocessing\n",
    "from pytorch_forecasting import Baseline, NBeats, TimeSeriesDataSet, DecoderMLP\n",
    "from pytorch_forecasting.data import NaNLabelEncoder\n",
    "from pytorch_forecasting.data.examples import generate_ar_data\n",
    "from pytorch_forecasting.metrics import SMAPE\n",
    "from pytorch_forecasting import Baseline, DeepAR, TimeSeriesDataSet\n",
    "from pytorch_forecasting.metrics import SMAPE, MultivariateNormalDistributionLoss\n",
    "pl.seed_everything(42)\n",
    "import pytorch_forecasting as ptf"
   ]
  },
  {
   "cell_type": "code",
   "execution_count": 5,
   "id": "f6c6cc03",
   "metadata": {},
   "outputs": [
    {
     "name": "stdout",
     "output_type": "stream",
     "text": [
      "Index(['row_id', 'cfips', 'county', 'state', 'first_day_of_month',\n",
      "       'microbusiness_density', 'active'],\n",
      "      dtype='object')\n"
     ]
    }
   ],
   "source": [
    "columns = train.columns\n",
    "print(columns)"
   ]
  },
  {
   "cell_type": "code",
   "execution_count": 93,
   "id": "7ff6cfe2",
   "metadata": {},
   "outputs": [],
   "source": [
    "train['microbusiness_density'] = b\n",
    "print()\n",
    "#train['active'] = c\n",
    "#print(train['active'])"
   ]
  },
  {
   "cell_type": "raw",
   "id": "2dc99dda",
   "metadata": {},
   "source": [
    "All work on this project is suspended until March 4th 2023. "
   ]
  },
  {
   "cell_type": "code",
   "execution_count": 13,
   "id": "fec0931f",
   "metadata": {},
   "outputs": [
    {
     "name": "stdout",
     "output_type": "stream",
     "text": [
      "[[ 0]\n",
      " [ 1]\n",
      " [ 2]\n",
      " ...\n",
      " [35]\n",
      " [36]\n",
      " [37]]\n",
      "(2091672,)\n",
      "Index(['row_id', 'cfips', 'county', 'state', 'first_day_of_month',\n",
      "       'microbusiness_density', 'active'],\n",
      "      dtype='object')\n",
      "                  row_id  cfips  ... microbusiness_density active\n",
      "0        1001_2019-08-01   1001  ...              3.007682   1249\n",
      "1        1001_2019-09-01   1001  ...              2.884870   1198\n",
      "2        1001_2019-10-01   1001  ...              3.055843   1269\n",
      "3        1001_2019-11-01   1001  ...              2.993233   1243\n",
      "4        1001_2019-12-01   1001  ...              2.993233   1243\n",
      "...                  ...    ...  ...                   ...    ...\n",
      "122260  56045_2022-06-01  56045  ...              1.803249    101\n",
      "122261  56045_2022-07-01  56045  ...              1.803249    101\n",
      "122262  56045_2022-08-01  56045  ...              1.785395    100\n",
      "122263  56045_2022-09-01  56045  ...              1.785395    100\n",
      "122264  56045_2022-10-01  56045  ...              1.785395    100\n",
      "\n",
      "[122265 rows x 7 columns]\n",
      "0          0\n",
      "1          1\n",
      "2          2\n",
      "3          3\n",
      "4          4\n",
      "          ..\n",
      "122260    34\n",
      "122261    35\n",
      "122262    36\n",
      "122263    37\n",
      "122264    38\n",
      "Name: time, Length: 122265, dtype: int32\n"
     ]
    }
   ],
   "source": [
    "\n",
    "from sklearn import preprocessing \n",
    "\n",
    "date = np.tile(np.arange(38), 55044)\n",
    "print(date.reshape(-1, 1))\n",
    "print(date.shape)\n",
    "max_encoder_length = 38\n",
    "max_prediction_length = 1\n",
    "le = preprocessing.LabelEncoder()\n",
    "\n",
    "columns = train.columns\n",
    "print(columns)\n",
    "train = pd.DataFrame(train,columns=columns)\n",
    "print(train)\n",
    "#train['first_day_of_month']\n",
    "a = le.fit_transform(train['first_day_of_month'])#train['first_day_of_month'].replace(\"-\",\"\")\n",
    "a = a.reshape(-1, 1)\n",
    "#print(a.shape)\n",
    "#print(a)#train['first_day_of_month'])\n",
    "#train = plugin.fit_transform(train)\n",
    "a = pd.DataFrame(a,columns=['time'])\n",
    "train = train\n",
    "a = a.astype(int)\n",
    "train = pd.concat([train,a],1)\n",
    "\n",
    "train =train.fillna(0)\n",
    "print(train['time'])\n",
    "#train = train['first_day_of_month'].strftime(\"%Y%m%d\")\n",
    "#train = train['first_day_of_month'].astype(int)\n",
    "#np.tile(np.arange(10), 3)\n",
    "#a = np.linspace(1001, 56045, num=55044)\n",
    "\n",
    "#training_cutoff = train[\"first_day_of_month\"].max() - max_prediction_length\n"
   ]
  },
  {
   "cell_type": "code",
   "execution_count": 14,
   "id": "a1956964",
   "metadata": {},
   "outputs": [],
   "source": [
    "training = TimeSeriesDataSet(\n",
    "    train,#[lambda x: x.time_idx <= training_cutoff],\n",
    "    group_ids=[\"cfips\"],\n",
    "    time_idx=\"time\",\n",
    "    target=\"active\",\n",
    "    #categorical_encoders={[\"pct_bb_2017\",\"pct_bb_2018\",\"pct_bb_2019\",\"pct_bb_2020\",\"pct_bb_2021\", \"pct_college_2017\", \"pct_college_2018\", \"pct_college_2019\", \"pct_college_2020\", \"pct_college_2021\",\"pct_foreign_born_2017\",\"pct_foreign_born_2018\",\"pct_foreign_born_2019\",\"pct_foreign_born_2020\",\"pct_foreign_born_2021\",\"pct_it_workers_2017\",\"pct_it_workers_2018\",\"pct_it_workers_2019\",\"pct_it_workers_2020\",\"pct_it_workers_2021\",\"median_hh_inc_2017\",\"median_hh_inc_2018\",\"median_hh_inc_2019\",\"median_hh_inc_2020\",\"median_hh_inc_2021\"]: NaNLabelEncoder().fit(train)},\n",
    "    #group_ids=[\"county\", \"state\", \"microbusiness_density\"],\n",
    "    # only unknown variable is \"value\" - and N-Beats can also not take any additional variables\n",
    "    #static_reals=[\"pct_bb_2017\",\"pct_bb_2018\",\"pct_bb_2019\",\"pct_bb_2020\",\"pct_bb_2021\", \"pct_college_2017\", \"pct_college_2018\", \"pct_college_2019\", \"pct_college_2020\", \"pct_college_2021\",\"pct_foreign_born_2017\",\"pct_foreign_born_2018\",\"pct_foreign_born_2019\",\"pct_foreign_born_2020\",\"pct_foreign_born_2021\",\"pct_it_workers_2017\",\"pct_it_workers_2018\",\"pct_it_workers_2019\",\"pct_it_workers_2020\",\"pct_it_workers_2021\",\"median_hh_inc_2017\",\"median_hh_inc_2018\",\"median_hh_inc_2019\",\"median_hh_inc_2020\",\"median_hh_inc_2021\"],\n",
    "    #static_reals=[\"pct_bb_2017\",\"pct_bb_2018\",\"pct_bb_2019\",\"pct_bb_2020\",\"pct_bb_2021\", \"pct_college_2017\", \"pct_college_2018\", \"pct_college_2019\", \"pct_college_2020\", \"pct_college_2021\",\"pct_foreign_born_2017\",\"pct_foreign_born_2018\",\"pct_foreign_born_2019\",\"pct_foreign_born_2020\",\"pct_foreign_born_2021\",\"pct_it_workers_2017\",\"pct_it_workers_2018\",\"pct_it_workers_2019\",\"pct_it_workers_2020\",\"pct_it_workers_2021\",\"median_hh_inc_2017\",\"median_hh_inc_2018\",\"median_hh_inc_2019\",\"median_hh_inc_2020\",\"median_hh_inc_2021\"],\n",
    "    time_varying_unknown_reals=['active'],\n",
    "    \n",
    "    max_encoder_length=38,\n",
    "    #max_prediction_length=prediction_length,\n",
    "    min_prediction_length=1,\n",
    "    predict_mode=False \n",
    ")"
   ]
  },
  {
   "cell_type": "raw",
   "id": "715f3067",
   "metadata": {},
   "source": [
    "microbusiness density variable of interest to predict has long term dependence of 0.75 and a large recurrence rate and determinsims parameter\n",
    "\n",
    "Spectral distribution analysis also reveals that it has a similar structure to the lorenz equations"
   ]
  },
  {
   "cell_type": "code",
   "execution_count": 39,
   "id": "bcd8f78c",
   "metadata": {},
   "outputs": [],
   "source": [
    "\n",
    "\n",
    "validation = TimeSeriesDataSet.from_dataset(training, train ,predict=True,)\n",
    "batch_size = 18\n",
    "# synchronize samples in each batch over time - only necessary for DeepVAR, not for DeepAR\n",
    "train_dataloader = training.to_dataloader(\n",
    "    train=True, batch_size=batch_size, num_workers=12, batch_sampler=\"synchronized\"\n",
    ")\n",
    "\n",
    "val_dataloader = validation.to_dataloader(\n",
    "    train=False, batch_size=batch_size, num_workers=12, batch_sampler=\"synchronized\"\n",
    ")\n"
   ]
  },
  {
   "cell_type": "code",
   "execution_count": 26,
   "id": "c3cf18ef",
   "metadata": {},
   "outputs": [],
   "source": [
    "# calculate baseline absolute error\n",
    "#actuals = torch.cat([y[0] for x, y in iter(val_dataloader)])\n",
    "#baseline_predictions = Baseline().predict(val_dataloader)\n",
    "#SMAPE()(baseline_predictions, actuals)"
   ]
  },
  {
   "cell_type": "code",
   "execution_count": 15,
   "id": "a51692c9",
   "metadata": {},
   "outputs": [
    {
     "name": "stderr",
     "output_type": "stream",
     "text": [
      "Global seed set to 42\n"
     ]
    }
   ],
   "source": [
    "import pytorch_lightning as pl\n",
    "from pytorch_lightning.callbacks import EarlyStopping\n",
    "import torch\n",
    "from sklearn import preprocessing\n",
    "from pytorch_forecasting import Baseline, NBeats, TimeSeriesDataSet\n",
    "from pytorch_forecasting.data import NaNLabelEncoder\n",
    "from pytorch_forecasting.data.examples import generate_ar_data\n",
    "from pytorch_forecasting.metrics import SMAPE\n",
    "from pytorch_forecasting import DeepAR,DecoderMLP\n",
    "from pytorch_forecasting.metrics import SMAPE, MultivariateNormalDistributionLoss\n",
    "pl.seed_everything(42)\n",
    "import pytorch_forecasting as ptf\n",
    "\n",
    "trainer = pl.Trainer(accelerator='gpu', devices=1,gradient_clip_val=1e-1)\n",
    "net = DecoderMLP.from_dataset(training,learning_rate=3e-2, loss=SMAPE(quantiles=2) )\n",
    "#net = DeepAR.from_dataset(training, learning_rate=3e-2, hidden_size=30, rnn_layers=2, loss=SMAPE()#MultivariateNormalDistributionLoss(rank=30))"
   ]
  },
  {
   "cell_type": "code",
   "execution_count": 22,
   "id": "00346fe0",
   "metadata": {},
   "outputs": [
    {
     "name": "stderr",
     "output_type": "stream",
     "text": [
      "`max_epochs` was not set. Setting it to 1000 epochs. To train without an epoch limit, set `max_epochs=-1`.\n",
      "LOCAL_RANK: 0 - CUDA_VISIBLE_DEVICES: [0]\n"
     ]
    },
    {
     "ename": "RuntimeError",
     "evalue": "cannot reshape tensor of 0 elements into shape [-1, 0] because the unspecified dimension size -1 can be any value and is ambiguous",
     "output_type": "error",
     "traceback": [
      "Traceback \u001b[1;36m(most recent call last)\u001b[0m:\n",
      "  File \u001b[0;32m\"C:\\Users\\subar\\AppData\\Local\\Temp\\ipykernel_14824\\137737594.py\"\u001b[0m, line \u001b[0;32m2\u001b[0m, in \u001b[0;35m<module>\u001b[0m\n    res = trainer.tuner.lr_find(\n",
      "  File \u001b[0;32m\"C:\\Users\\subar\\anaconda3\\envs\\d\\lib\\site-packages\\pytorch_lightning\\tuner\\tuning.py\"\u001b[0m, line \u001b[0;32m267\u001b[0m, in \u001b[0;35mlr_find\u001b[0m\n    self.trainer.fit(model, train_dataloaders, val_dataloaders, datamodule)\n",
      "  File \u001b[0;32m\"C:\\Users\\subar\\anaconda3\\envs\\d\\lib\\site-packages\\pytorch_lightning\\trainer\\trainer.py\"\u001b[0m, line \u001b[0;32m603\u001b[0m, in \u001b[0;35mfit\u001b[0m\n    call._call_and_handle_interrupt(\n",
      "  File \u001b[0;32m\"C:\\Users\\subar\\anaconda3\\envs\\d\\lib\\site-packages\\pytorch_lightning\\trainer\\call.py\"\u001b[0m, line \u001b[0;32m38\u001b[0m, in \u001b[0;35m_call_and_handle_interrupt\u001b[0m\n    return trainer_fn(*args, **kwargs)\n",
      "  File \u001b[0;32m\"C:\\Users\\subar\\anaconda3\\envs\\d\\lib\\site-packages\\pytorch_lightning\\trainer\\trainer.py\"\u001b[0m, line \u001b[0;32m645\u001b[0m, in \u001b[0;35m_fit_impl\u001b[0m\n    self._run(model, ckpt_path=self.ckpt_path)\n",
      "  File \u001b[0;32m\"C:\\Users\\subar\\anaconda3\\envs\\d\\lib\\site-packages\\pytorch_lightning\\trainer\\trainer.py\"\u001b[0m, line \u001b[0;32m1083\u001b[0m, in \u001b[0;35m_run\u001b[0m\n    self._call_callback_hooks(\"on_fit_start\")\n",
      "  File \u001b[0;32m\"C:\\Users\\subar\\anaconda3\\envs\\d\\lib\\site-packages\\pytorch_lightning\\trainer\\trainer.py\"\u001b[0m, line \u001b[0;32m1380\u001b[0m, in \u001b[0;35m_call_callback_hooks\u001b[0m\n    fn(self, self.lightning_module, *args, **kwargs)\n",
      "  File \u001b[0;32m\"C:\\Users\\subar\\anaconda3\\envs\\d\\lib\\site-packages\\pytorch_lightning\\callbacks\\lr_finder.py\"\u001b[0m, line \u001b[0;32m122\u001b[0m, in \u001b[0;35mon_fit_start\u001b[0m\n    self.lr_find(trainer, pl_module)\n",
      "  File \u001b[0;32m\"C:\\Users\\subar\\anaconda3\\envs\\d\\lib\\site-packages\\pytorch_lightning\\callbacks\\lr_finder.py\"\u001b[0m, line \u001b[0;32m107\u001b[0m, in \u001b[0;35mlr_find\u001b[0m\n    self.optimal_lr = lr_find(\n",
      "  File \u001b[0;32m\"C:\\Users\\subar\\anaconda3\\envs\\d\\lib\\site-packages\\pytorch_lightning\\tuner\\lr_finder.py\"\u001b[0m, line \u001b[0;32m241\u001b[0m, in \u001b[0;35mlr_find\u001b[0m\n    _try_loop_run(trainer, params)\n",
      "  File \u001b[0;32m\"C:\\Users\\subar\\anaconda3\\envs\\d\\lib\\site-packages\\pytorch_lightning\\tuner\\lr_finder.py\"\u001b[0m, line \u001b[0;32m471\u001b[0m, in \u001b[0;35m_try_loop_run\u001b[0m\n    loop.run()\n",
      "  File \u001b[0;32m\"C:\\Users\\subar\\anaconda3\\envs\\d\\lib\\site-packages\\pytorch_lightning\\loops\\loop.py\"\u001b[0m, line \u001b[0;32m199\u001b[0m, in \u001b[0;35mrun\u001b[0m\n    self.advance(*args, **kwargs)\n",
      "  File \u001b[0;32m\"C:\\Users\\subar\\anaconda3\\envs\\d\\lib\\site-packages\\pytorch_lightning\\loops\\fit_loop.py\"\u001b[0m, line \u001b[0;32m267\u001b[0m, in \u001b[0;35madvance\u001b[0m\n    self._outputs = self.epoch_loop.run(self._data_fetcher)\n",
      "  File \u001b[0;32m\"C:\\Users\\subar\\anaconda3\\envs\\d\\lib\\site-packages\\pytorch_lightning\\loops\\loop.py\"\u001b[0m, line \u001b[0;32m200\u001b[0m, in \u001b[0;35mrun\u001b[0m\n    self.on_advance_end()\n",
      "  File \u001b[0;32m\"C:\\Users\\subar\\anaconda3\\envs\\d\\lib\\site-packages\\pytorch_lightning\\loops\\epoch\\training_epoch_loop.py\"\u001b[0m, line \u001b[0;32m251\u001b[0m, in \u001b[0;35mon_advance_end\u001b[0m\n    self._run_validation()\n",
      "  File \u001b[0;32m\"C:\\Users\\subar\\anaconda3\\envs\\d\\lib\\site-packages\\pytorch_lightning\\loops\\epoch\\training_epoch_loop.py\"\u001b[0m, line \u001b[0;32m310\u001b[0m, in \u001b[0;35m_run_validation\u001b[0m\n    self.val_loop.run()\n",
      "  File \u001b[0;32m\"C:\\Users\\subar\\anaconda3\\envs\\d\\lib\\site-packages\\pytorch_lightning\\loops\\loop.py\"\u001b[0m, line \u001b[0;32m199\u001b[0m, in \u001b[0;35mrun\u001b[0m\n    self.advance(*args, **kwargs)\n",
      "  File \u001b[0;32m\"C:\\Users\\subar\\anaconda3\\envs\\d\\lib\\site-packages\\pytorch_lightning\\loops\\dataloader\\evaluation_loop.py\"\u001b[0m, line \u001b[0;32m152\u001b[0m, in \u001b[0;35madvance\u001b[0m\n    dl_outputs = self.epoch_loop.run(self._data_fetcher, dl_max_batches, kwargs)\n",
      "  File \u001b[0;32m\"C:\\Users\\subar\\anaconda3\\envs\\d\\lib\\site-packages\\pytorch_lightning\\loops\\loop.py\"\u001b[0m, line \u001b[0;32m199\u001b[0m, in \u001b[0;35mrun\u001b[0m\n    self.advance(*args, **kwargs)\n",
      "  File \u001b[0;32m\"C:\\Users\\subar\\anaconda3\\envs\\d\\lib\\site-packages\\pytorch_lightning\\loops\\epoch\\evaluation_epoch_loop.py\"\u001b[0m, line \u001b[0;32m137\u001b[0m, in \u001b[0;35madvance\u001b[0m\n    output = self._evaluation_step(**kwargs)\n",
      "  File \u001b[0;32m\"C:\\Users\\subar\\anaconda3\\envs\\d\\lib\\site-packages\\pytorch_lightning\\loops\\epoch\\evaluation_epoch_loop.py\"\u001b[0m, line \u001b[0;32m234\u001b[0m, in \u001b[0;35m_evaluation_step\u001b[0m\n    output = self.trainer._call_strategy_hook(hook_name, *kwargs.values())\n",
      "  File \u001b[0;32m\"C:\\Users\\subar\\anaconda3\\envs\\d\\lib\\site-packages\\pytorch_lightning\\trainer\\trainer.py\"\u001b[0m, line \u001b[0;32m1480\u001b[0m, in \u001b[0;35m_call_strategy_hook\u001b[0m\n    output = fn(*args, **kwargs)\n",
      "  File \u001b[0;32m\"C:\\Users\\subar\\anaconda3\\envs\\d\\lib\\site-packages\\pytorch_lightning\\strategies\\strategy.py\"\u001b[0m, line \u001b[0;32m390\u001b[0m, in \u001b[0;35mvalidation_step\u001b[0m\n    return self.model.validation_step(*args, **kwargs)\n",
      "  File \u001b[0;32m\"C:\\Users\\subar\\anaconda3\\envs\\d\\lib\\site-packages\\pytorch_forecasting\\models\\base_model.py\"\u001b[0m, line \u001b[0;32m419\u001b[0m, in \u001b[0;35mvalidation_step\u001b[0m\n    log, out = self.step(x, y, batch_idx)\n",
      "  File \u001b[0;32m\"C:\\Users\\subar\\anaconda3\\envs\\d\\lib\\site-packages\\pytorch_forecasting\\models\\base_model.py\"\u001b[0m, line \u001b[0;32m559\u001b[0m, in \u001b[0;35mstep\u001b[0m\n    out = self(x, **kwargs)\n",
      "  File \u001b[0;32m\"C:\\Users\\subar\\anaconda3\\envs\\d\\lib\\site-packages\\torch\\nn\\modules\\module.py\"\u001b[0m, line \u001b[0;32m1194\u001b[0m, in \u001b[0;35m_call_impl\u001b[0m\n    return forward_call(*input, **kwargs)\n",
      "\u001b[1;36m  File \u001b[1;32m\"C:\\Users\\subar\\anaconda3\\envs\\d\\lib\\site-packages\\pytorch_forecasting\\models\\mlp\\__init__.py\"\u001b[1;36m, line \u001b[1;32m139\u001b[1;36m, in \u001b[1;35mforward\u001b[1;36m\u001b[0m\n\u001b[1;33m    prediction = self.mlp(network_input.view(-1, self.mlp.input_size)).view(\u001b[0m\n",
      "\u001b[1;31mRuntimeError\u001b[0m\u001b[1;31m:\u001b[0m cannot reshape tensor of 0 elements into shape [-1, 0] because the unspecified dimension size -1 can be any value and is ambiguous\n"
     ]
    }
   ],
   "source": [
    "# find optimal learning rate\n",
    "res = trainer.tuner.lr_find(\n",
    "    net,\n",
    "    train_dataloaders=train_dataloader,\n",
    "    val_dataloaders=train_dataloader,\n",
    "    min_lr=1e-5,\n",
    "    max_lr=1e0,\n",
    "    early_stop_threshold=100,\n",
    ")\n",
    "print(f\"suggested learning rate: {res.suggestion()}\")\n",
    "fig = res.plot(show=True, suggest=True)\n",
    "fig.show()\n",
    "net.hparams.learning_rate = res.suggestion()"
   ]
  },
  {
   "cell_type": "code",
   "execution_count": 18,
   "id": "95e834f0",
   "metadata": {},
   "outputs": [],
   "source": [
    "import numpy as np\n",
    "import pandas as pd\n",
    "\n",
    "import matplotlib.pyplot as plt\n",
    "from neuralforecast import NeuralForecast\n",
    "from neuralforecast.models import NBEATS, NHITS, LSTM\n",
    "from neuralforecast.utils import AirPassengersDF\n",
    "#from neuralforecast.losses.numpy import mae, mse,smape\n",
    "from neuralforecast.losses.pytorch import SMAPE"
   ]
  },
  {
   "cell_type": "code",
   "execution_count": 4,
   "id": "e0726f83",
   "metadata": {},
   "outputs": [
    {
     "name": "stdout",
     "output_type": "stream",
     "text": [
      "   unique_id         ds      y\n",
      "0        1.0 1949-01-31  112.0\n",
      "1        1.0 1949-02-28  118.0\n",
      "2        1.0 1949-03-31  132.0\n",
      "3        1.0 1949-04-30  129.0\n",
      "4        1.0 1949-05-31  121.0\n"
     ]
    }
   ],
   "source": [
    "Y_df = AirPassengersDF\n",
    "Y_train_df = Y_df[Y_df.ds<='1959-12-31'] # 132 train\n",
    "Y_test_df = Y_df[Y_df.ds>'1959-12-31'] # 12 test\n",
    "print(Y_df.head(5))"
   ]
  },
  {
   "cell_type": "code",
   "execution_count": 9,
   "id": "34368e42",
   "metadata": {},
   "outputs": [
    {
     "name": "stdout",
     "output_type": "stream",
     "text": [
      "Empty DataFrame\n",
      "Columns: [row_id, cfips, county, state, first_day_of_month, microbusiness_density, active]\n",
      "Index: []\n"
     ]
    }
   ],
   "source": [
    "print(train.head(0))"
   ]
  },
  {
   "cell_type": "code",
   "execution_count": 22,
   "id": "c53318ed",
   "metadata": {},
   "outputs": [
    {
     "name": "stdout",
     "output_type": "stream",
     "text": [
      "Empty DataFrame\n",
      "Columns: [row_id, cfips, county, state, first_day_of_month, microbusiness_density, active, time, y, unique_id, ds]\n",
      "Index: []\n",
      "Empty DataFrame\n",
      "Columns: [microbusiness_density, y, unique_id, ds]\n",
      "Index: []\n",
      "(122265, 4)\n"
     ]
    }
   ],
   "source": [
    "horizon = 9\n",
    "trai = train\n",
    "print(train.head(0))\n",
    "trai['y'] = trai['active']\n",
    "trai['unique_id'] = trai['cfips']\n",
    "trai['ds'] = trai['time']\n",
    "trai = trai.drop(['row_id', 'county', 'state','first_day_of_month','active','cfips','time'],1)\n",
    "#census = pd.DataFrame(census,columns=[\"pct_bb_2017\", \"pct_bb_2018\", \"pct_bb_2019\", \"pct_bb_2020\", \"pct_bb_2021\", \"cfips\", \"pct_college_2017\", \"pct_college_2018\", \"pct_college_2019\", \"pct_college_2020\", \"pct_college_2021\", \"pct_foreign_born_2017\", \"pct_foreign_born_2018\", \"pct_foreign_born_2019\", \"pct_foreign_born_2020\", \"pct_foreign_born_2021\", \"pct_it_workers_2017\", \"pct_it_workers_2018\", \"pct_it_workers_2019\", \"pct_it_workers_2020\", \"pct_it_workers_2021\", \"median_hh_inc_2017\", \"median_hh_inc_2018\", \"median_hh_inc_2019\", \"median_hh_inc_2020\", \"median_hh_inc_2021\"])\n",
    "#print(census)\n",
    "print(trai.head(0))\n",
    "#tra= tra.merge(census, how='left',on='cfips')\n",
    "print(trai.shape)\n",
    "\n",
    "#tra = pd.concat([trai,census],1)\n",
    "#print(tra.head(0))\n",
    "\n",
    "\n",
    "#print(tra)"
   ]
  },
  {
   "cell_type": "code",
   "execution_count": 24,
   "id": "f957f4da",
   "metadata": {},
   "outputs": [
    {
     "name": "stderr",
     "output_type": "stream",
     "text": [
      "Global seed set to 1\n",
      "Global seed set to 1\n"
     ]
    },
    {
     "name": "stdout",
     "output_type": "stream",
     "text": [
      "Empty DataFrame\n",
      "Columns: [microbusiness_density, y, unique_id, ds]\n",
      "Index: []\n",
      "(122265, 4)\n"
     ]
    },
    {
     "data": {
      "application/vnd.jupyter.widget-view+json": {
       "model_id": "8b377d9dc75743698710354d439f8b53",
       "version_major": 2,
       "version_minor": 0
      },
      "text/plain": [
       "Sanity Checking: 0it [00:00, ?it/s]"
      ]
     },
     "metadata": {},
     "output_type": "display_data"
    },
    {
     "data": {
      "application/vnd.jupyter.widget-view+json": {
       "model_id": "e0cef147e90c45d3ba330a53fa01c070",
       "version_major": 2,
       "version_minor": 0
      },
      "text/plain": [
       "Training: 0it [00:00, ?it/s]"
      ]
     },
     "metadata": {},
     "output_type": "display_data"
    },
    {
     "data": {
      "application/vnd.jupyter.widget-view+json": {
       "model_id": "02cea9c20c1e4aaabc295a5fda784405",
       "version_major": 2,
       "version_minor": 0
      },
      "text/plain": [
       "Validation: 0it [00:00, ?it/s]"
      ]
     },
     "metadata": {},
     "output_type": "display_data"
    },
    {
     "data": {
      "application/vnd.jupyter.widget-view+json": {
       "model_id": "7d866662798844f984f6d3608ce5abac",
       "version_major": 2,
       "version_minor": 0
      },
      "text/plain": [
       "Validation: 0it [00:00, ?it/s]"
      ]
     },
     "metadata": {},
     "output_type": "display_data"
    },
    {
     "data": {
      "application/vnd.jupyter.widget-view+json": {
       "model_id": "a2295db3d1644bd299c658d92420f522",
       "version_major": 2,
       "version_minor": 0
      },
      "text/plain": [
       "Validation: 0it [00:00, ?it/s]"
      ]
     },
     "metadata": {},
     "output_type": "display_data"
    },
    {
     "data": {
      "application/vnd.jupyter.widget-view+json": {
       "model_id": "cda0c39fea4e46de96017873bc7dc793",
       "version_major": 2,
       "version_minor": 0
      },
      "text/plain": [
       "Validation: 0it [00:00, ?it/s]"
      ]
     },
     "metadata": {},
     "output_type": "display_data"
    },
    {
     "data": {
      "application/vnd.jupyter.widget-view+json": {
       "model_id": "11eb9fb32bbb46e992d9018ff24e6f87",
       "version_major": 2,
       "version_minor": 0
      },
      "text/plain": [
       "Validation: 0it [00:00, ?it/s]"
      ]
     },
     "metadata": {},
     "output_type": "display_data"
    },
    {
     "data": {
      "application/vnd.jupyter.widget-view+json": {
       "model_id": "a47a1decebc7499aa79fc0d97d7c9521",
       "version_major": 2,
       "version_minor": 0
      },
      "text/plain": [
       "Sanity Checking: 0it [00:00, ?it/s]"
      ]
     },
     "metadata": {},
     "output_type": "display_data"
    },
    {
     "data": {
      "application/vnd.jupyter.widget-view+json": {
       "model_id": "64500c878d3b4408b439106232b4a858",
       "version_major": 2,
       "version_minor": 0
      },
      "text/plain": [
       "Training: 0it [00:00, ?it/s]"
      ]
     },
     "metadata": {},
     "output_type": "display_data"
    },
    {
     "data": {
      "application/vnd.jupyter.widget-view+json": {
       "model_id": "1bbc9bf519d54184855a6c75478deaa9",
       "version_major": 2,
       "version_minor": 0
      },
      "text/plain": [
       "Validation: 0it [00:00, ?it/s]"
      ]
     },
     "metadata": {},
     "output_type": "display_data"
    },
    {
     "data": {
      "application/vnd.jupyter.widget-view+json": {
       "model_id": "b829e1947d0a4c4bb997f91157bd274c",
       "version_major": 2,
       "version_minor": 0
      },
      "text/plain": [
       "Validation: 0it [00:00, ?it/s]"
      ]
     },
     "metadata": {},
     "output_type": "display_data"
    },
    {
     "data": {
      "application/vnd.jupyter.widget-view+json": {
       "model_id": "364d50167d2f43499ed580fd9e754b72",
       "version_major": 2,
       "version_minor": 0
      },
      "text/plain": [
       "Validation: 0it [00:00, ?it/s]"
      ]
     },
     "metadata": {},
     "output_type": "display_data"
    },
    {
     "data": {
      "application/vnd.jupyter.widget-view+json": {
       "model_id": "5e53a793e99240d4bfa0c7b38889e024",
       "version_major": 2,
       "version_minor": 0
      },
      "text/plain": [
       "Validation: 0it [00:00, ?it/s]"
      ]
     },
     "metadata": {},
     "output_type": "display_data"
    },
    {
     "data": {
      "application/vnd.jupyter.widget-view+json": {
       "model_id": "3accc620aaa7496584a9aab59317a6a5",
       "version_major": 2,
       "version_minor": 0
      },
      "text/plain": [
       "Validation: 0it [00:00, ?it/s]"
      ]
     },
     "metadata": {},
     "output_type": "display_data"
    },
    {
     "data": {
      "application/vnd.jupyter.widget-view+json": {
       "model_id": "7f79dce544db47a189b37bbd3f7adf67",
       "version_major": 2,
       "version_minor": 0
      },
      "text/plain": [
       "Validation: 0it [00:00, ?it/s]"
      ]
     },
     "metadata": {},
     "output_type": "display_data"
    },
    {
     "data": {
      "application/vnd.jupyter.widget-view+json": {
       "model_id": "5021b4e38e024f7ab641a7c28859480b",
       "version_major": 2,
       "version_minor": 0
      },
      "text/plain": [
       "Validation: 0it [00:00, ?it/s]"
      ]
     },
     "metadata": {},
     "output_type": "display_data"
    },
    {
     "data": {
      "application/vnd.jupyter.widget-view+json": {
       "model_id": "e3a9843028b14514aa1c326d66debb7b",
       "version_major": 2,
       "version_minor": 0
      },
      "text/plain": [
       "Validation: 0it [00:00, ?it/s]"
      ]
     },
     "metadata": {},
     "output_type": "display_data"
    },
    {
     "data": {
      "application/vnd.jupyter.widget-view+json": {
       "model_id": "3858d333e95748afbdd22710943289d9",
       "version_major": 2,
       "version_minor": 0
      },
      "text/plain": [
       "Validation: 0it [00:00, ?it/s]"
      ]
     },
     "metadata": {},
     "output_type": "display_data"
    },
    {
     "data": {
      "application/vnd.jupyter.widget-view+json": {
       "model_id": "e1bfcf334f6949c3837b89a4921419bb",
       "version_major": 2,
       "version_minor": 0
      },
      "text/plain": [
       "Validation: 0it [00:00, ?it/s]"
      ]
     },
     "metadata": {},
     "output_type": "display_data"
    },
    {
     "data": {
      "application/vnd.jupyter.widget-view+json": {
       "model_id": "31d6922a117e44fdb20d6a37bfc4e111",
       "version_major": 2,
       "version_minor": 0
      },
      "text/plain": [
       "Validation: 0it [00:00, ?it/s]"
      ]
     },
     "metadata": {},
     "output_type": "display_data"
    },
    {
     "data": {
      "application/vnd.jupyter.widget-view+json": {
       "model_id": "684723f8f594429493cf80144ebbdb86",
       "version_major": 2,
       "version_minor": 0
      },
      "text/plain": [
       "Validation: 0it [00:00, ?it/s]"
      ]
     },
     "metadata": {},
     "output_type": "display_data"
    },
    {
     "data": {
      "application/vnd.jupyter.widget-view+json": {
       "model_id": "f11a63fe71384e7cb13411dedb3c6d81",
       "version_major": 2,
       "version_minor": 0
      },
      "text/plain": [
       "Validation: 0it [00:00, ?it/s]"
      ]
     },
     "metadata": {},
     "output_type": "display_data"
    },
    {
     "data": {
      "application/vnd.jupyter.widget-view+json": {
       "model_id": "308eb28aa7da449bbb3c74a0363cf75e",
       "version_major": 2,
       "version_minor": 0
      },
      "text/plain": [
       "Validation: 0it [00:00, ?it/s]"
      ]
     },
     "metadata": {},
     "output_type": "display_data"
    },
    {
     "data": {
      "application/vnd.jupyter.widget-view+json": {
       "model_id": "6070d4080f27409e8b7b1a249b93c122",
       "version_major": 2,
       "version_minor": 0
      },
      "text/plain": [
       "Validation: 0it [00:00, ?it/s]"
      ]
     },
     "metadata": {},
     "output_type": "display_data"
    },
    {
     "data": {
      "application/vnd.jupyter.widget-view+json": {
       "model_id": "25dd373b80ec4286a9f11ac6fe42113d",
       "version_major": 2,
       "version_minor": 0
      },
      "text/plain": [
       "Validation: 0it [00:00, ?it/s]"
      ]
     },
     "metadata": {},
     "output_type": "display_data"
    },
    {
     "data": {
      "application/vnd.jupyter.widget-view+json": {
       "model_id": "6983cba9f3c8470e95412abb0f011987",
       "version_major": 2,
       "version_minor": 0
      },
      "text/plain": [
       "Validation: 0it [00:00, ?it/s]"
      ]
     },
     "metadata": {},
     "output_type": "display_data"
    },
    {
     "data": {
      "application/vnd.jupyter.widget-view+json": {
       "model_id": "1df0695f5ff747759809aeb8a27444ce",
       "version_major": 2,
       "version_minor": 0
      },
      "text/plain": [
       "Validation: 0it [00:00, ?it/s]"
      ]
     },
     "metadata": {},
     "output_type": "display_data"
    },
    {
     "data": {
      "application/vnd.jupyter.widget-view+json": {
       "model_id": "6223a14c4b7d448181e6a7a6b120f7e7",
       "version_major": 2,
       "version_minor": 0
      },
      "text/plain": [
       "Validation: 0it [00:00, ?it/s]"
      ]
     },
     "metadata": {},
     "output_type": "display_data"
    },
    {
     "data": {
      "application/vnd.jupyter.widget-view+json": {
       "model_id": "0b73c76ad9004c2bac7f76bb26be83c6",
       "version_major": 2,
       "version_minor": 0
      },
      "text/plain": [
       "Validation: 0it [00:00, ?it/s]"
      ]
     },
     "metadata": {},
     "output_type": "display_data"
    },
    {
     "data": {
      "application/vnd.jupyter.widget-view+json": {
       "model_id": "53551da2289347238595a924d268ab5f",
       "version_major": 2,
       "version_minor": 0
      },
      "text/plain": [
       "Validation: 0it [00:00, ?it/s]"
      ]
     },
     "metadata": {},
     "output_type": "display_data"
    },
    {
     "data": {
      "application/vnd.jupyter.widget-view+json": {
       "model_id": "ee6145d292d148f4bd1f8a5ae69a9d8a",
       "version_major": 2,
       "version_minor": 0
      },
      "text/plain": [
       "Validation: 0it [00:00, ?it/s]"
      ]
     },
     "metadata": {},
     "output_type": "display_data"
    },
    {
     "data": {
      "application/vnd.jupyter.widget-view+json": {
       "model_id": "55f1693be4924bbcafda641a6f609e6c",
       "version_major": 2,
       "version_minor": 0
      },
      "text/plain": [
       "Validation: 0it [00:00, ?it/s]"
      ]
     },
     "metadata": {},
     "output_type": "display_data"
    },
    {
     "data": {
      "application/vnd.jupyter.widget-view+json": {
       "model_id": "d10af45be2634848b55806b35ebe208f",
       "version_major": 2,
       "version_minor": 0
      },
      "text/plain": [
       "Validation: 0it [00:00, ?it/s]"
      ]
     },
     "metadata": {},
     "output_type": "display_data"
    },
    {
     "data": {
      "application/vnd.jupyter.widget-view+json": {
       "model_id": "3b813e4675d44dd381cfa41865c40eac",
       "version_major": 2,
       "version_minor": 0
      },
      "text/plain": [
       "Validation: 0it [00:00, ?it/s]"
      ]
     },
     "metadata": {},
     "output_type": "display_data"
    },
    {
     "data": {
      "application/vnd.jupyter.widget-view+json": {
       "model_id": "3b40b4ea74a24392a0e08335b248af7d",
       "version_major": 2,
       "version_minor": 0
      },
      "text/plain": [
       "Validation: 0it [00:00, ?it/s]"
      ]
     },
     "metadata": {},
     "output_type": "display_data"
    },
    {
     "data": {
      "application/vnd.jupyter.widget-view+json": {
       "model_id": "93aa2ba0f38e4b188ddddeeb05e83c80",
       "version_major": 2,
       "version_minor": 0
      },
      "text/plain": [
       "Validation: 0it [00:00, ?it/s]"
      ]
     },
     "metadata": {},
     "output_type": "display_data"
    },
    {
     "data": {
      "application/vnd.jupyter.widget-view+json": {
       "model_id": "b7b53f9b835d47bcb28bfb256e99eb58",
       "version_major": 2,
       "version_minor": 0
      },
      "text/plain": [
       "Validation: 0it [00:00, ?it/s]"
      ]
     },
     "metadata": {},
     "output_type": "display_data"
    },
    {
     "data": {
      "application/vnd.jupyter.widget-view+json": {
       "model_id": "afea2cf8ab7a4582ac9778a05249daf4",
       "version_major": 2,
       "version_minor": 0
      },
      "text/plain": [
       "Validation: 0it [00:00, ?it/s]"
      ]
     },
     "metadata": {},
     "output_type": "display_data"
    },
    {
     "data": {
      "application/vnd.jupyter.widget-view+json": {
       "model_id": "5e2a16c97bff403cac4b06f33422087d",
       "version_major": 2,
       "version_minor": 0
      },
      "text/plain": [
       "Validation: 0it [00:00, ?it/s]"
      ]
     },
     "metadata": {},
     "output_type": "display_data"
    },
    {
     "data": {
      "application/vnd.jupyter.widget-view+json": {
       "model_id": "af9557a6d2444d60af975035f393c399",
       "version_major": 2,
       "version_minor": 0
      },
      "text/plain": [
       "Validation: 0it [00:00, ?it/s]"
      ]
     },
     "metadata": {},
     "output_type": "display_data"
    },
    {
     "data": {
      "application/vnd.jupyter.widget-view+json": {
       "model_id": "8c8350cecad54bd8a8a969ad5baaabec",
       "version_major": 2,
       "version_minor": 0
      },
      "text/plain": [
       "Validation: 0it [00:00, ?it/s]"
      ]
     },
     "metadata": {},
     "output_type": "display_data"
    },
    {
     "data": {
      "application/vnd.jupyter.widget-view+json": {
       "model_id": "57ee8e3b19924ad59bea5e60a3f382e6",
       "version_major": 2,
       "version_minor": 0
      },
      "text/plain": [
       "Validation: 0it [00:00, ?it/s]"
      ]
     },
     "metadata": {},
     "output_type": "display_data"
    },
    {
     "data": {
      "application/vnd.jupyter.widget-view+json": {
       "model_id": "fee30f35f0584195b055aadf0d8b1973",
       "version_major": 2,
       "version_minor": 0
      },
      "text/plain": [
       "Validation: 0it [00:00, ?it/s]"
      ]
     },
     "metadata": {},
     "output_type": "display_data"
    },
    {
     "data": {
      "application/vnd.jupyter.widget-view+json": {
       "model_id": "6c921d28ce854162a280b5221e85aac8",
       "version_major": 2,
       "version_minor": 0
      },
      "text/plain": [
       "Validation: 0it [00:00, ?it/s]"
      ]
     },
     "metadata": {},
     "output_type": "display_data"
    },
    {
     "data": {
      "application/vnd.jupyter.widget-view+json": {
       "model_id": "ddedbe91981146de9ca3b4dbcae39faf",
       "version_major": 2,
       "version_minor": 0
      },
      "text/plain": [
       "Validation: 0it [00:00, ?it/s]"
      ]
     },
     "metadata": {},
     "output_type": "display_data"
    },
    {
     "data": {
      "application/vnd.jupyter.widget-view+json": {
       "model_id": "dc86dede8ff14d50b8e081bdbfc6b673",
       "version_major": 2,
       "version_minor": 0
      },
      "text/plain": [
       "Validation: 0it [00:00, ?it/s]"
      ]
     },
     "metadata": {},
     "output_type": "display_data"
    },
    {
     "data": {
      "application/vnd.jupyter.widget-view+json": {
       "model_id": "5a0491857913458aaaec7659029c61a9",
       "version_major": 2,
       "version_minor": 0
      },
      "text/plain": [
       "Validation: 0it [00:00, ?it/s]"
      ]
     },
     "metadata": {},
     "output_type": "display_data"
    },
    {
     "data": {
      "application/vnd.jupyter.widget-view+json": {
       "model_id": "4802e267584a4bce96e7ad30e705cf3c",
       "version_major": 2,
       "version_minor": 0
      },
      "text/plain": [
       "Validation: 0it [00:00, ?it/s]"
      ]
     },
     "metadata": {},
     "output_type": "display_data"
    },
    {
     "data": {
      "application/vnd.jupyter.widget-view+json": {
       "model_id": "78a269ac61be4a1a818921077a4bb790",
       "version_major": 2,
       "version_minor": 0
      },
      "text/plain": [
       "Validation: 0it [00:00, ?it/s]"
      ]
     },
     "metadata": {},
     "output_type": "display_data"
    },
    {
     "data": {
      "application/vnd.jupyter.widget-view+json": {
       "model_id": "92a07f544698439fb92183bcad52f547",
       "version_major": 2,
       "version_minor": 0
      },
      "text/plain": [
       "Validation: 0it [00:00, ?it/s]"
      ]
     },
     "metadata": {},
     "output_type": "display_data"
    },
    {
     "data": {
      "application/vnd.jupyter.widget-view+json": {
       "model_id": "7a3b50c0e0864eb2a84bfb381808d746",
       "version_major": 2,
       "version_minor": 0
      },
      "text/plain": [
       "Validation: 0it [00:00, ?it/s]"
      ]
     },
     "metadata": {},
     "output_type": "display_data"
    },
    {
     "data": {
      "application/vnd.jupyter.widget-view+json": {
       "model_id": "5849a930c18747719497423f22d7d405",
       "version_major": 2,
       "version_minor": 0
      },
      "text/plain": [
       "Validation: 0it [00:00, ?it/s]"
      ]
     },
     "metadata": {},
     "output_type": "display_data"
    },
    {
     "data": {
      "application/vnd.jupyter.widget-view+json": {
       "model_id": "57d900183cc94268914949d5becb55a8",
       "version_major": 2,
       "version_minor": 0
      },
      "text/plain": [
       "Validation: 0it [00:00, ?it/s]"
      ]
     },
     "metadata": {},
     "output_type": "display_data"
    },
    {
     "data": {
      "application/vnd.jupyter.widget-view+json": {
       "model_id": "c67981daf01346d2a328aad01832306e",
       "version_major": 2,
       "version_minor": 0
      },
      "text/plain": [
       "Validation: 0it [00:00, ?it/s]"
      ]
     },
     "metadata": {},
     "output_type": "display_data"
    },
    {
     "data": {
      "application/vnd.jupyter.widget-view+json": {
       "model_id": "a4b350c6f6874a5497cf4c464dea1b73",
       "version_major": 2,
       "version_minor": 0
      },
      "text/plain": [
       "Validation: 0it [00:00, ?it/s]"
      ]
     },
     "metadata": {},
     "output_type": "display_data"
    },
    {
     "data": {
      "application/vnd.jupyter.widget-view+json": {
       "model_id": "cb1697a2c7534082b5fc9fedd8b9b531",
       "version_major": 2,
       "version_minor": 0
      },
      "text/plain": [
       "Validation: 0it [00:00, ?it/s]"
      ]
     },
     "metadata": {},
     "output_type": "display_data"
    },
    {
     "data": {
      "application/vnd.jupyter.widget-view+json": {
       "model_id": "7b86774209944244bd4a5aa151e35e76",
       "version_major": 2,
       "version_minor": 0
      },
      "text/plain": [
       "Validation: 0it [00:00, ?it/s]"
      ]
     },
     "metadata": {},
     "output_type": "display_data"
    },
    {
     "data": {
      "application/vnd.jupyter.widget-view+json": {
       "model_id": "91ec4b4934774b3783a9f2ed67e97600",
       "version_major": 2,
       "version_minor": 0
      },
      "text/plain": [
       "Validation: 0it [00:00, ?it/s]"
      ]
     },
     "metadata": {},
     "output_type": "display_data"
    },
    {
     "data": {
      "application/vnd.jupyter.widget-view+json": {
       "model_id": "3555cf1f552d4579947969dc1eeb75fe",
       "version_major": 2,
       "version_minor": 0
      },
      "text/plain": [
       "Validation: 0it [00:00, ?it/s]"
      ]
     },
     "metadata": {},
     "output_type": "display_data"
    }
   ],
   "source": [
    "model = [LSTM(h=horizon,max_steps=500),NHITS(input_size=3 * horizon, h=horizon, max_epochs=50,scaler_type='standard',loss=SMAPE())]#,stat_exog_list = [\"pct_college_2017\", \"pct_college_2018\", \"pct_college_2019\", \"pct_college_2020\", \"pct_college_2021\", \"pct_foreign_born_2017\", \"pct_foreign_born_2018\", \"pct_foreign_born_2019\", \"pct_foreign_born_2020\", \"pct_foreign_born_2021\", \"pct_it_workers_2017\", \"pct_it_workers_2018\", \"pct_it_workers_2019\", \"pct_it_workers_2020\", \"pct_it_workers_2021\", \"median_hh_inc_2017\", \"median_hh_inc_2018\", \"median_hh_inc_2019\", \"median_hh_inc_2020\", \"median_hh_inc_2021\"])]#stat_exog_list=[\"pct_bb_2017\", \"pct_bb_2018\", \"pct_bb_2019\", \"pct_bb_2020\", \"pct_bb_2021\"])]#,\"pct_college_2017\", \"pct_college_2018\", \"pct_college_2019\", \"pct_college_2020\", \"pct_college_2021\", \"pct_foreign_born_2017\", \"pct_foreign_born_2018\", \"pct_foreign_born_2019\", \"pct_foreign_born_2020\", \"pct_foreign_born_2021\", \"pct_it_workers_2017\", \"pct_it_workers_2018\", \"pct_it_workers_2019\", \"pct_it_workers_2020\", \"pct_it_workers_2021\", \"median_hh_inc_2017\", \"median_hh_inc_2018\", \"median_hh_inc_2019\", \"median_hh_inc_2020\", \"median_hh_inc_2021\"])]\n",
    "nforecast = NeuralForecast(models=model, freq='M')\n",
    "print(trai.head(0))\n",
    "#print(train.head(39))\n",
    "print(trai.shape)\n",
    "nforecast.fit(df=trai,verbose=True)\n"
   ]
  },
  {
   "cell_type": "code",
   "execution_count": 256,
   "id": "b180498f",
   "metadata": {},
   "outputs": [
    {
     "name": "stdout",
     "output_type": "stream",
     "text": [
      "Empty DataFrame\n",
      "Columns: [cfips, microbusiness_density, active, pct_bb_2017, pct_bb_2018, pct_bb_2019, pct_bb_2020, pct_bb_2021, pct_college_2017, pct_college_2018, pct_college_2019, pct_college_2020, pct_college_2021, pct_foreign_born_2017, pct_foreign_born_2018, pct_foreign_born_2019, pct_foreign_born_2020, pct_foreign_born_2021, pct_it_workers_2017, pct_it_workers_2018, pct_it_workers_2019, pct_it_workers_2020, pct_it_workers_2021, median_hh_inc_2017, median_hh_inc_2018, median_hh_inc_2019, median_hh_inc_2020, median_hh_inc_2021, time, y, unique_id, ds]\n",
      "Index: []\n"
     ]
    }
   ],
   "source": [
    "print(trai.head(0))"
   ]
  },
  {
   "cell_type": "code",
   "execution_count": 9,
   "id": "69e16939",
   "metadata": {},
   "outputs": [
    {
     "name": "stderr",
     "output_type": "stream",
     "text": [
      "Global seed set to 1\n",
      "Global seed set to 1\n"
     ]
    },
    {
     "name": "stdout",
     "output_type": "stream",
     "text": [
      "Empty DataFrame\n",
      "Columns: [row_id, cfips, county, state, first_day_of_month, microbusiness_density, active, time, y, unique_id, ds]\n",
      "Index: []\n",
      "0          1001\n",
      "1          1001\n",
      "2          1001\n",
      "3          1001\n",
      "4          1001\n",
      "          ...  \n",
      "122260    56045\n",
      "122261    56045\n",
      "122262    56045\n",
      "122263    56045\n",
      "122264    56045\n",
      "Name: cfips, Length: 122265, dtype: int64\n",
      "asdf\n",
      "Empty DataFrame\n",
      "Columns: [cfips, microbusiness_density, active, time, y, unique_id, ds]\n",
      "Index: []\n",
      "(122265, 7)\n"
     ]
    },
    {
     "data": {
      "application/vnd.jupyter.widget-view+json": {
       "model_id": "0821a05e3e9b4dc796a48033cdaf7e1d",
       "version_major": 2,
       "version_minor": 0
      },
      "text/plain": [
       "Sanity Checking: 0it [00:00, ?it/s]"
      ]
     },
     "metadata": {},
     "output_type": "display_data"
    },
    {
     "data": {
      "application/vnd.jupyter.widget-view+json": {
       "model_id": "489bf0ec4402455c847800f830963aa0",
       "version_major": 2,
       "version_minor": 0
      },
      "text/plain": [
       "Training: 0it [00:00, ?it/s]"
      ]
     },
     "metadata": {},
     "output_type": "display_data"
    },
    {
     "data": {
      "application/vnd.jupyter.widget-view+json": {
       "model_id": "52fd44e5baf8475babf2a34794a40ade",
       "version_major": 2,
       "version_minor": 0
      },
      "text/plain": [
       "Validation: 0it [00:00, ?it/s]"
      ]
     },
     "metadata": {},
     "output_type": "display_data"
    },
    {
     "data": {
      "application/vnd.jupyter.widget-view+json": {
       "model_id": "eaa43240341947f7a26cc92d7700ceed",
       "version_major": 2,
       "version_minor": 0
      },
      "text/plain": [
       "Validation: 0it [00:00, ?it/s]"
      ]
     },
     "metadata": {},
     "output_type": "display_data"
    },
    {
     "data": {
      "application/vnd.jupyter.widget-view+json": {
       "model_id": "cc9ad0335f3b4d60827fddd636a5998e",
       "version_major": 2,
       "version_minor": 0
      },
      "text/plain": [
       "Validation: 0it [00:00, ?it/s]"
      ]
     },
     "metadata": {},
     "output_type": "display_data"
    },
    {
     "data": {
      "application/vnd.jupyter.widget-view+json": {
       "model_id": "a8e9072677114a0a851fa770ad20d013",
       "version_major": 2,
       "version_minor": 0
      },
      "text/plain": [
       "Validation: 0it [00:00, ?it/s]"
      ]
     },
     "metadata": {},
     "output_type": "display_data"
    },
    {
     "data": {
      "application/vnd.jupyter.widget-view+json": {
       "model_id": "bc39056222fb4cca95d2e5bc62e9ffa1",
       "version_major": 2,
       "version_minor": 0
      },
      "text/plain": [
       "Validation: 0it [00:00, ?it/s]"
      ]
     },
     "metadata": {},
     "output_type": "display_data"
    },
    {
     "data": {
      "application/vnd.jupyter.widget-view+json": {
       "model_id": "19c3aea7f7854b73948120e6b1ed7537",
       "version_major": 2,
       "version_minor": 0
      },
      "text/plain": [
       "Sanity Checking: 0it [00:00, ?it/s]"
      ]
     },
     "metadata": {},
     "output_type": "display_data"
    },
    {
     "data": {
      "application/vnd.jupyter.widget-view+json": {
       "model_id": "876dec4afc2840d2bcb7b155b08ca027",
       "version_major": 2,
       "version_minor": 0
      },
      "text/plain": [
       "Training: 0it [00:00, ?it/s]"
      ]
     },
     "metadata": {},
     "output_type": "display_data"
    },
    {
     "ename": "AttributeError",
     "evalue": "'NoneType' object has no attribute 'get_indexer'",
     "output_type": "error",
     "traceback": [
      "Traceback \u001b[1;36m(most recent call last)\u001b[0m:\n",
      "  File \u001b[0;32m\"C:\\Users\\subar\\AppData\\Local\\Temp\\ipykernel_24488\\3513045870.py\"\u001b[0m, line \u001b[0;32m19\u001b[0m, in \u001b[0;35m<module>\u001b[0m\n    nforecast.fit(df=trai,verbose=True)\n",
      "  File \u001b[0;32m\"C:\\Users\\subar\\anaconda3\\envs\\d\\lib\\site-packages\\neuralforecast\\core.py\"\u001b[0m, line \u001b[0;32m183\u001b[0m, in \u001b[0;35mfit\u001b[0m\n    model.fit(self.dataset, val_size=val_size)\n",
      "  File \u001b[0;32m\"C:\\Users\\subar\\anaconda3\\envs\\d\\lib\\site-packages\\neuralforecast\\common\\_base_windows.py\"\u001b[0m, line \u001b[0;32m569\u001b[0m, in \u001b[0;35mfit\u001b[0m\n    trainer.fit(self, datamodule=datamodule)\n",
      "  File \u001b[0;32m\"C:\\Users\\subar\\anaconda3\\envs\\d\\lib\\site-packages\\pytorch_lightning\\trainer\\trainer.py\"\u001b[0m, line \u001b[0;32m608\u001b[0m, in \u001b[0;35mfit\u001b[0m\n    call._call_and_handle_interrupt(\n",
      "  File \u001b[0;32m\"C:\\Users\\subar\\anaconda3\\envs\\d\\lib\\site-packages\\pytorch_lightning\\trainer\\call.py\"\u001b[0m, line \u001b[0;32m38\u001b[0m, in \u001b[0;35m_call_and_handle_interrupt\u001b[0m\n    return trainer_fn(*args, **kwargs)\n",
      "  File \u001b[0;32m\"C:\\Users\\subar\\anaconda3\\envs\\d\\lib\\site-packages\\pytorch_lightning\\trainer\\trainer.py\"\u001b[0m, line \u001b[0;32m650\u001b[0m, in \u001b[0;35m_fit_impl\u001b[0m\n    self._run(model, ckpt_path=self.ckpt_path)\n",
      "  File \u001b[0;32m\"C:\\Users\\subar\\anaconda3\\envs\\d\\lib\\site-packages\\pytorch_lightning\\trainer\\trainer.py\"\u001b[0m, line \u001b[0;32m1112\u001b[0m, in \u001b[0;35m_run\u001b[0m\n    results = self._run_stage()\n",
      "  File \u001b[0;32m\"C:\\Users\\subar\\anaconda3\\envs\\d\\lib\\site-packages\\pytorch_lightning\\trainer\\trainer.py\"\u001b[0m, line \u001b[0;32m1191\u001b[0m, in \u001b[0;35m_run_stage\u001b[0m\n    self._run_train()\n",
      "  File \u001b[0;32m\"C:\\Users\\subar\\anaconda3\\envs\\d\\lib\\site-packages\\pytorch_lightning\\trainer\\trainer.py\"\u001b[0m, line \u001b[0;32m1214\u001b[0m, in \u001b[0;35m_run_train\u001b[0m\n    self.fit_loop.run()\n",
      "  File \u001b[0;32m\"C:\\Users\\subar\\anaconda3\\envs\\d\\lib\\site-packages\\pytorch_lightning\\loops\\loop.py\"\u001b[0m, line \u001b[0;32m199\u001b[0m, in \u001b[0;35mrun\u001b[0m\n    self.advance(*args, **kwargs)\n",
      "  File \u001b[0;32m\"C:\\Users\\subar\\anaconda3\\envs\\d\\lib\\site-packages\\pytorch_lightning\\loops\\fit_loop.py\"\u001b[0m, line \u001b[0;32m267\u001b[0m, in \u001b[0;35madvance\u001b[0m\n    self._outputs = self.epoch_loop.run(self._data_fetcher)\n",
      "  File \u001b[0;32m\"C:\\Users\\subar\\anaconda3\\envs\\d\\lib\\site-packages\\pytorch_lightning\\loops\\loop.py\"\u001b[0m, line \u001b[0;32m199\u001b[0m, in \u001b[0;35mrun\u001b[0m\n    self.advance(*args, **kwargs)\n",
      "  File \u001b[0;32m\"C:\\Users\\subar\\anaconda3\\envs\\d\\lib\\site-packages\\pytorch_lightning\\loops\\epoch\\training_epoch_loop.py\"\u001b[0m, line \u001b[0;32m213\u001b[0m, in \u001b[0;35madvance\u001b[0m\n    batch_output = self.batch_loop.run(kwargs)\n",
      "  File \u001b[0;32m\"C:\\Users\\subar\\anaconda3\\envs\\d\\lib\\site-packages\\pytorch_lightning\\loops\\loop.py\"\u001b[0m, line \u001b[0;32m199\u001b[0m, in \u001b[0;35mrun\u001b[0m\n    self.advance(*args, **kwargs)\n",
      "  File \u001b[0;32m\"C:\\Users\\subar\\anaconda3\\envs\\d\\lib\\site-packages\\pytorch_lightning\\loops\\batch\\training_batch_loop.py\"\u001b[0m, line \u001b[0;32m88\u001b[0m, in \u001b[0;35madvance\u001b[0m\n    outputs = self.optimizer_loop.run(optimizers, kwargs)\n",
      "  File \u001b[0;32m\"C:\\Users\\subar\\anaconda3\\envs\\d\\lib\\site-packages\\pytorch_lightning\\loops\\loop.py\"\u001b[0m, line \u001b[0;32m199\u001b[0m, in \u001b[0;35mrun\u001b[0m\n    self.advance(*args, **kwargs)\n",
      "  File \u001b[0;32m\"C:\\Users\\subar\\anaconda3\\envs\\d\\lib\\site-packages\\pytorch_lightning\\loops\\optimization\\optimizer_loop.py\"\u001b[0m, line \u001b[0;32m202\u001b[0m, in \u001b[0;35madvance\u001b[0m\n    result = self._run_optimization(kwargs, self._optimizers[self.optim_progress.optimizer_position])\n",
      "  File \u001b[0;32m\"C:\\Users\\subar\\anaconda3\\envs\\d\\lib\\site-packages\\pytorch_lightning\\loops\\optimization\\optimizer_loop.py\"\u001b[0m, line \u001b[0;32m249\u001b[0m, in \u001b[0;35m_run_optimization\u001b[0m\n    self._optimizer_step(optimizer, opt_idx, kwargs.get(\"batch_idx\", 0), closure)\n",
      "  File \u001b[0;32m\"C:\\Users\\subar\\anaconda3\\envs\\d\\lib\\site-packages\\pytorch_lightning\\loops\\optimization\\optimizer_loop.py\"\u001b[0m, line \u001b[0;32m370\u001b[0m, in \u001b[0;35m_optimizer_step\u001b[0m\n    self.trainer._call_lightning_module_hook(\n",
      "  File \u001b[0;32m\"C:\\Users\\subar\\anaconda3\\envs\\d\\lib\\site-packages\\pytorch_lightning\\trainer\\trainer.py\"\u001b[0m, line \u001b[0;32m1356\u001b[0m, in \u001b[0;35m_call_lightning_module_hook\u001b[0m\n    output = fn(*args, **kwargs)\n",
      "  File \u001b[0;32m\"C:\\Users\\subar\\anaconda3\\envs\\d\\lib\\site-packages\\pytorch_lightning\\core\\module.py\"\u001b[0m, line \u001b[0;32m1742\u001b[0m, in \u001b[0;35moptimizer_step\u001b[0m\n    optimizer.step(closure=optimizer_closure)\n",
      "  File \u001b[0;32m\"C:\\Users\\subar\\anaconda3\\envs\\d\\lib\\site-packages\\pytorch_lightning\\core\\optimizer.py\"\u001b[0m, line \u001b[0;32m169\u001b[0m, in \u001b[0;35mstep\u001b[0m\n    step_output = self._strategy.optimizer_step(self._optimizer, self._optimizer_idx, closure, **kwargs)\n",
      "  File \u001b[0;32m\"C:\\Users\\subar\\anaconda3\\envs\\d\\lib\\site-packages\\pytorch_lightning\\strategies\\strategy.py\"\u001b[0m, line \u001b[0;32m234\u001b[0m, in \u001b[0;35moptimizer_step\u001b[0m\n    return self.precision_plugin.optimizer_step(\n",
      "  File \u001b[0;32m\"C:\\Users\\subar\\anaconda3\\envs\\d\\lib\\site-packages\\pytorch_lightning\\plugins\\precision\\precision_plugin.py\"\u001b[0m, line \u001b[0;32m119\u001b[0m, in \u001b[0;35moptimizer_step\u001b[0m\n    return optimizer.step(closure=closure, **kwargs)\n",
      "  File \u001b[0;32m\"C:\\Users\\subar\\anaconda3\\envs\\d\\lib\\site-packages\\torch\\optim\\lr_scheduler.py\"\u001b[0m, line \u001b[0;32m68\u001b[0m, in \u001b[0;35mwrapper\u001b[0m\n    return wrapped(*args, **kwargs)\n",
      "  File \u001b[0;32m\"C:\\Users\\subar\\anaconda3\\envs\\d\\lib\\site-packages\\torch\\optim\\optimizer.py\"\u001b[0m, line \u001b[0;32m140\u001b[0m, in \u001b[0;35mwrapper\u001b[0m\n    out = func(*args, **kwargs)\n",
      "  File \u001b[0;32m\"C:\\Users\\subar\\anaconda3\\envs\\d\\lib\\site-packages\\torch\\optim\\optimizer.py\"\u001b[0m, line \u001b[0;32m23\u001b[0m, in \u001b[0;35m_use_grad\u001b[0m\n    ret = func(self, *args, **kwargs)\n",
      "  File \u001b[0;32m\"C:\\Users\\subar\\anaconda3\\envs\\d\\lib\\site-packages\\torch\\optim\\adam.py\"\u001b[0m, line \u001b[0;32m183\u001b[0m, in \u001b[0;35mstep\u001b[0m\n    loss = closure()\n",
      "  File \u001b[0;32m\"C:\\Users\\subar\\anaconda3\\envs\\d\\lib\\site-packages\\pytorch_lightning\\plugins\\precision\\precision_plugin.py\"\u001b[0m, line \u001b[0;32m105\u001b[0m, in \u001b[0;35m_wrap_closure\u001b[0m\n    closure_result = closure()\n",
      "  File \u001b[0;32m\"C:\\Users\\subar\\anaconda3\\envs\\d\\lib\\site-packages\\pytorch_lightning\\loops\\optimization\\optimizer_loop.py\"\u001b[0m, line \u001b[0;32m149\u001b[0m, in \u001b[0;35m__call__\u001b[0m\n    self._result = self.closure(*args, **kwargs)\n",
      "  File \u001b[0;32m\"C:\\Users\\subar\\anaconda3\\envs\\d\\lib\\site-packages\\pytorch_lightning\\loops\\optimization\\optimizer_loop.py\"\u001b[0m, line \u001b[0;32m135\u001b[0m, in \u001b[0;35mclosure\u001b[0m\n    step_output = self._step_fn()\n",
      "  File \u001b[0;32m\"C:\\Users\\subar\\anaconda3\\envs\\d\\lib\\site-packages\\pytorch_lightning\\loops\\optimization\\optimizer_loop.py\"\u001b[0m, line \u001b[0;32m419\u001b[0m, in \u001b[0;35m_training_step\u001b[0m\n    training_step_output = self.trainer._call_strategy_hook(\"training_step\", *kwargs.values())\n",
      "  File \u001b[0;32m\"C:\\Users\\subar\\anaconda3\\envs\\d\\lib\\site-packages\\pytorch_lightning\\trainer\\trainer.py\"\u001b[0m, line \u001b[0;32m1494\u001b[0m, in \u001b[0;35m_call_strategy_hook\u001b[0m\n    output = fn(*args, **kwargs)\n",
      "  File \u001b[0;32m\"C:\\Users\\subar\\anaconda3\\envs\\d\\lib\\site-packages\\pytorch_lightning\\strategies\\strategy.py\"\u001b[0m, line \u001b[0;32m378\u001b[0m, in \u001b[0;35mtraining_step\u001b[0m\n    return self.model.training_step(*args, **kwargs)\n",
      "  File \u001b[0;32m\"C:\\Users\\subar\\anaconda3\\envs\\d\\lib\\site-packages\\neuralforecast\\common\\_base_windows.py\"\u001b[0m, line \u001b[0;32m381\u001b[0m, in \u001b[0;35mtraining_step\u001b[0m\n    ) = self._parse_windows(batch, windows)\n",
      "\u001b[1;36m  File \u001b[1;32m\"C:\\Users\\subar\\anaconda3\\envs\\d\\lib\\site-packages\\neuralforecast\\common\\_base_windows.py\"\u001b[1;36m, line \u001b[1;32m352\u001b[1;36m, in \u001b[1;35m_parse_windows\u001b[1;36m\u001b[0m\n\u001b[1;33m    static_idx = windows[\"static_cols\"].get_indexer(self.stat_exog_list)\u001b[0m\n",
      "\u001b[1;31mAttributeError\u001b[0m\u001b[1;31m:\u001b[0m 'NoneType' object has no attribute 'get_indexer'\n"
     ]
    }
   ],
   "source": [
    "horizon = 9\n",
    "trai = train\n",
    "print(trai.head(0))\n",
    "trai['y'] = trai['microbusiness_density']\n",
    "print(trai['cfips'])\n",
    "trai['unique_id'] = trai['cfips']\n",
    "trai['ds'] = trai['time']\n",
    "trai = trai.drop(['row_id', 'county', 'state','first_day_of_month'],1)\n",
    "#tra = plugin.fit_transform(tra)\n",
    "#trai = trai.drop([\"pct_college_2017\", \"pct_college_2018\", \"pct_college_2019\", \"pct_college_2020\", \"pct_college_2021\", \"pct_foreign_born_2017\", \"pct_foreign_born_2018\", \"pct_foreign_born_2019\", \"pct_foreign_born_2020\", \"pct_foreign_born_2021\", \"pct_it_workers_2017\", \"pct_it_workers_2018\", \"pct_it_workers_2019\", \"pct_it_workers_2020\", \"pct_it_workers_2021\", \"median_hh_inc_2017\", \"median_hh_inc_2018\", \"median_hh_inc_2019\", \"median_hh_inc_2020\", \"median_hh_inc_2021\"],1)\n",
    "#print(tra)\n",
    "#print(tra.head(1))\n",
    "print(\"asdf\")\n",
    "model = [LSTM(h=horizon,max_steps=500),NHITS(input_size=3 * horizon, h=horizon, max_epochs=50,scaler_type='standard',loss=SMAPE(),stat_exog_list = [\"pct_college_2017\", \"pct_college_2018\", \"pct_college_2019\", \"pct_college_2020\", \"pct_college_2021\", \"pct_foreign_born_2017\", \"pct_foreign_born_2018\", \"pct_foreign_born_2019\", \"pct_foreign_born_2020\", \"pct_foreign_born_2021\", \"pct_it_workers_2017\", \"pct_it_workers_2018\", \"pct_it_workers_2019\", \"pct_it_workers_2020\", \"pct_it_workers_2021\", \"median_hh_inc_2017\", \"median_hh_inc_2018\", \"median_hh_inc_2019\", \"median_hh_inc_2020\", \"median_hh_inc_2021\"])]#stat_exog_list=[\"pct_bb_2017\", \"pct_bb_2018\", \"pct_bb_2019\", \"pct_bb_2020\", \"pct_bb_2021\"])]#,\"pct_college_2017\", \"pct_college_2018\", \"pct_college_2019\", \"pct_college_2020\", \"pct_college_2021\", \"pct_foreign_born_2017\", \"pct_foreign_born_2018\", \"pct_foreign_born_2019\", \"pct_foreign_born_2020\", \"pct_foreign_born_2021\", \"pct_it_workers_2017\", \"pct_it_workers_2018\", \"pct_it_workers_2019\", \"pct_it_workers_2020\", \"pct_it_workers_2021\", \"median_hh_inc_2017\", \"median_hh_inc_2018\", \"median_hh_inc_2019\", \"median_hh_inc_2020\", \"median_hh_inc_2021\"])]\n",
    "nforecast = NeuralForecast(models=model, freq='M')\n",
    "print(trai.head(0))\n",
    "#print(train.head(39))\n",
    "print(trai.shape)\n",
    "nforecast.fit(df=trai,verbose=True)\n"
   ]
  },
  {
   "cell_type": "code",
   "execution_count": 43,
   "id": "39bf23db",
   "metadata": {},
   "outputs": [
    {
     "name": "stderr",
     "output_type": "stream",
     "text": [
      "Global seed set to 1\n"
     ]
    },
    {
     "ename": "NameError",
     "evalue": "name 'Tip' is not defined",
     "output_type": "error",
     "traceback": [
      "Traceback \u001b[1;36m(most recent call last)\u001b[0m:\n",
      "\u001b[1;36m  File \u001b[1;32m\"C:\\Users\\subar\\AppData\\Local\\Temp\\ipykernel_14604\\3222752957.py\"\u001b[1;36m, line \u001b[1;32m9\u001b[1;36m, in \u001b[1;35m<module>\u001b[1;36m\u001b[0m\n\u001b[1;33m    Tip\u001b[0m\n",
      "\u001b[1;31mNameError\u001b[0m\u001b[1;31m:\u001b[0m name 'Tip' is not defined\n"
     ]
    }
   ],
   "source": [
    "horizon = 24 # day-ahead daily forecast\n",
    "models = [NHITS(h = horizon,\n",
    "                input_size = 5*horizon,\n",
    "                futr_exog_list = ['gen_forecast', 'week_day'], # <- Future exogenous variables\n",
    "                hist_exog_list = ['system_load'], # <- Historical exogenous variables\n",
    "                stat_exog_list = ['market_0', 'market_1'], # <- Static exogenous variables\n",
    "                scaler_type = 'robust')]\n",
    "\n",
    "Tip"
   ]
  },
  {
   "cell_type": "code",
   "execution_count": 146,
   "id": "a763b3ba",
   "metadata": {},
   "outputs": [
    {
     "data": {
      "application/vnd.jupyter.widget-view+json": {
       "model_id": "cd08d5d8bcfe487f809dae9184acd591",
       "version_major": 2,
       "version_minor": 0
      },
      "text/plain": [
       "Predicting: 0it [00:00, ?it/s]"
      ]
     },
     "metadata": {},
     "output_type": "display_data"
    },
    {
     "data": {
      "application/vnd.jupyter.widget-view+json": {
       "model_id": "bf3e88db17f642db8e48dbec778bad95",
       "version_major": 2,
       "version_minor": 0
      },
      "text/plain": [
       "Predicting: 0it [00:00, ?it/s]"
      ]
     },
     "metadata": {},
     "output_type": "display_data"
    }
   ],
   "source": [
    "Y_hat_df = nforecast.predict()"
   ]
  },
  {
   "cell_type": "code",
   "execution_count": 126,
   "id": "78030be6",
   "metadata": {},
   "outputs": [
    {
     "name": "stdout",
     "output_type": "stream",
     "text": [
      "(25080, 2)\n",
      "           ds     NHITS\n",
      "unique_id              \n",
      "1001       39  3.468831\n",
      "1001       40  3.476960\n",
      "1001       41  3.487988\n",
      "1001       42  3.526772\n",
      "1001       43  3.544794\n",
      "1001       44  3.551725\n",
      "1001       45  3.568570\n",
      "1001       46  3.584085\n",
      "1003       39  8.364853\n",
      "1003       40  8.343334\n",
      "1003       41  8.356381\n",
      "1003       42  8.462914\n",
      "1003       43  8.455778\n",
      "1003       44  8.445662\n",
      "1003       45  8.447929\n",
      "1003       46  8.495646\n",
      "1005       39  1.241138\n",
      "1005       40  1.247833\n",
      "1005       41  1.250200\n",
      "1005       42  1.256467\n",
      "1005       43  1.262420\n",
      "1005       44  1.265443\n",
      "1005       45  1.268961\n",
      "1005       46  1.277385\n",
      "1007       39  1.291242\n",
      "1007       40  1.289247\n",
      "1007       41  1.295921\n",
      "1007       42  1.312459\n",
      "1007       43  1.316867\n",
      "1007       44  1.320460\n"
     ]
    }
   ],
   "source": [
    "print(Y_hat_df.shape)\n",
    "print(Y_hat_df.head(30))"
   ]
  },
  {
   "cell_type": "code",
   "execution_count": 107,
   "id": "e0b779bf",
   "metadata": {},
   "outputs": [
    {
     "name": "stdout",
     "output_type": "stream",
     "text": [
      "(25080, 2)\n",
      "                 row_id  microbusiness_density\n",
      "0       1001_2022-11-01               3.405280\n",
      "1       1001_2022-12-01               3.423634\n",
      "2       1001_2023-01-01               3.336825\n",
      "3       1001_2023-02-01               1.167540\n",
      "4       1001_2023-03-01               1.167540\n",
      "...                 ...                    ...\n",
      "25075  56045_2023-02-01               0.642844\n",
      "25076  56045_2023-03-01               0.642844\n",
      "25077  56045_2023-04-01               0.642844\n",
      "25078  56045_2023-05-01               0.642844\n",
      "25079  56045_2023-06-01               0.642844\n",
      "\n",
      "[25080 rows x 2 columns]\n"
     ]
    }
   ],
   "source": [
    "sub = pd.read_csv(\"C://Users//subar//Downloads//submission.csv\")\n",
    "print(sub.shape)\n",
    "print(sub)"
   ]
  },
  {
   "cell_type": "code",
   "execution_count": 147,
   "id": "e0072066",
   "metadata": {},
   "outputs": [
    {
     "name": "stdout",
     "output_type": "stream",
     "text": [
      "           ds      LSTM     NHITS\n",
      "unique_id                        \n",
      "1001       39  3.462311  3.468831\n",
      "1001       40  3.470444  3.476960\n",
      "1001       41  3.479797  3.487988\n",
      "1001       42  3.519812  3.526772\n",
      "1001       43  3.532183  3.544794\n",
      "...        ..       ...       ...\n",
      "56045      42  1.826387  1.835799\n",
      "56045      43  1.828968  1.834342\n",
      "56045      44  1.831998  1.834118\n",
      "56045      45  1.797360  1.835875\n",
      "56045      46  1.766209  1.836159\n",
      "\n",
      "[25080 rows x 3 columns]\n",
      "                 row_id  microbusiness_density\n",
      "0       1001_2022-11-01               3.468831\n",
      "1       1001_2022-12-01               3.476960\n",
      "2       1001_2023-01-01               3.487988\n",
      "3       1001_2023-02-01               3.526772\n",
      "4       1001_2023-03-01               3.544794\n",
      "...                 ...                    ...\n",
      "25075  56045_2023-02-01               1.835799\n",
      "25076  56045_2023-03-01               1.834342\n",
      "25077  56045_2023-04-01               1.834118\n",
      "25078  56045_2023-05-01               1.835875\n",
      "25079  56045_2023-06-01               1.836159\n",
      "\n",
      "[25080 rows x 2 columns]\n"
     ]
    }
   ],
   "source": [
    "Y = Y_hat_df\n",
    "print(Y)\n",
    "Y = Y.rename(columns={\"NHITS\": \"microbusiness_density\"})\n",
    "Y = Y[\"microbusiness_density\"]\n",
    "Y = Y.reset_index(drop=True)\n",
    "s = sub['row_id']\n",
    "Y = pd.concat([s,Y],1)\n",
    "print(Y)\n",
    "#"
   ]
  },
  {
   "cell_type": "code",
   "execution_count": 148,
   "id": "8b54759a",
   "metadata": {},
   "outputs": [],
   "source": [
    "from pathlib import Path  \n",
    "filepath = Path('C://Users//subar//OneDrive//Desktop//out2.csv')\n",
    "\n",
    "\n",
    "Y.to_csv(filepath,index=False)"
   ]
  },
  {
   "cell_type": "code",
   "execution_count": 98,
   "id": "6b2d1648",
   "metadata": {},
   "outputs": [
    {
     "name": "stderr",
     "output_type": "stream",
     "text": [
      "GPU available: True (cuda), used: True\n",
      "TPU available: False, using: 0 TPU cores\n",
      "IPU available: False, using: 0 IPUs\n",
      "HPU available: False, using: 0 HPUs\n"
     ]
    }
   ],
   "source": [
    "early_stop_callback = EarlyStopping(monitor=\"val_loss\", min_delta=1e-4, patience=10, verbose=True, mode=\"min\")\n",
    "trainer = pl.Trainer(\n",
    "    max_epochs=50,\n",
    "    #gpus=0,\n",
    "    accelerator='gpu', \n",
    "    devices=1,\n",
    "    enable_model_summary=True,\n",
    "    gradient_clip_val=0.1,\n",
    "    callbacks=[early_stop_callback],\n",
    "    limit_train_batches=50,\n",
    "    enable_checkpointing=True,\n",
    ")"
   ]
  },
  {
   "cell_type": "code",
   "execution_count": 41,
   "id": "210cd132",
   "metadata": {},
   "outputs": [
    {
     "ename": "TypeError",
     "evalue": "`Trainer.fit()` requires a `LightningModule`, got: DecoderMLP",
     "output_type": "error",
     "traceback": [
      "Traceback \u001b[1;36m(most recent call last)\u001b[0m:\n",
      "  File \u001b[0;32m\"C:\\Users\\subar\\AppData\\Local\\Temp\\ipykernel_14824\\2152889884.py\"\u001b[0m, line \u001b[0;32m13\u001b[0m, in \u001b[0;35m<module>\u001b[0m\n    trainer.fit(\n",
      "\u001b[1;36m  File \u001b[1;32m\"C:\\Users\\subar\\anaconda3\\envs\\d\\lib\\site-packages\\pytorch_lightning\\trainer\\trainer.py\"\u001b[1;36m, line \u001b[1;32m601\u001b[1;36m, in \u001b[1;35mfit\u001b[1;36m\u001b[0m\n\u001b[1;33m    GradClipAlgorithmType(gradient_clip_algorithm.lower()) if gradient_clip_algorithm is not None else None\u001b[0m\n",
      "\u001b[1;31mTypeError\u001b[0m\u001b[1;31m:\u001b[0m `Trainer.fit()` requires a `LightningModule`, got: DecoderMLP\n"
     ]
    }
   ],
   "source": [
    "net = DecoderMLP.from_dataset(training,learning_rate=3e-2, loss=SMAPE(quantiles=2))#,logging_metrics=SMAPE())\n",
    "\"\"\"\n",
    "DeepAR.from_dataset(\n",
    "    training,\n",
    "    learning_rate=0.1,\n",
    "    log_interval=10,\n",
    "    log_val_interval=1,\n",
    "    hidden_size=30,\n",
    "    rnn_layers=2,\n",
    "    loss=MultivariateNormalDistributionLoss(rank=30),\n",
    ")\n",
    "\"\"\"\n",
    "trainer.fit(\n",
    "    net,\n",
    "    train_dataloaders=train_dataloader,\n",
    "    val_dataloaders=train_dataloader#val_dataloader,\n",
    ")"
   ]
  },
  {
   "cell_type": "code",
   "execution_count": 23,
   "id": "746edf2f",
   "metadata": {},
   "outputs": [
    {
     "name": "stderr",
     "output_type": "stream",
     "text": [
      "LOCAL_RANK: 0 - CUDA_VISIBLE_DEVICES: [0]\n"
     ]
    },
    {
     "ename": "RuntimeError",
     "evalue": "cannot reshape tensor of 0 elements into shape [-1, 0] because the unspecified dimension size -1 can be any value and is ambiguous",
     "output_type": "error",
     "traceback": [
      "Traceback \u001b[1;36m(most recent call last)\u001b[0m:\n",
      "  File \u001b[0;32m\"C:\\Users\\subar\\AppData\\Local\\Temp\\ipykernel_14824\\301817607.py\"\u001b[0m, line \u001b[0;32m13\u001b[0m, in \u001b[0;35m<module>\u001b[0m\n    trainer.fit(\n",
      "  File \u001b[0;32m\"C:\\Users\\subar\\anaconda3\\envs\\d\\lib\\site-packages\\pytorch_lightning\\trainer\\trainer.py\"\u001b[0m, line \u001b[0;32m603\u001b[0m, in \u001b[0;35mfit\u001b[0m\n    call._call_and_handle_interrupt(\n",
      "  File \u001b[0;32m\"C:\\Users\\subar\\anaconda3\\envs\\d\\lib\\site-packages\\pytorch_lightning\\trainer\\call.py\"\u001b[0m, line \u001b[0;32m38\u001b[0m, in \u001b[0;35m_call_and_handle_interrupt\u001b[0m\n    return trainer_fn(*args, **kwargs)\n",
      "  File \u001b[0;32m\"C:\\Users\\subar\\anaconda3\\envs\\d\\lib\\site-packages\\pytorch_lightning\\trainer\\trainer.py\"\u001b[0m, line \u001b[0;32m645\u001b[0m, in \u001b[0;35m_fit_impl\u001b[0m\n    self._run(model, ckpt_path=self.ckpt_path)\n",
      "  File \u001b[0;32m\"C:\\Users\\subar\\anaconda3\\envs\\d\\lib\\site-packages\\pytorch_lightning\\trainer\\trainer.py\"\u001b[0m, line \u001b[0;32m1098\u001b[0m, in \u001b[0;35m_run\u001b[0m\n    results = self._run_stage()\n",
      "  File \u001b[0;32m\"C:\\Users\\subar\\anaconda3\\envs\\d\\lib\\site-packages\\pytorch_lightning\\trainer\\trainer.py\"\u001b[0m, line \u001b[0;32m1177\u001b[0m, in \u001b[0;35m_run_stage\u001b[0m\n    self._run_train()\n",
      "  File \u001b[0;32m\"C:\\Users\\subar\\anaconda3\\envs\\d\\lib\\site-packages\\pytorch_lightning\\trainer\\trainer.py\"\u001b[0m, line \u001b[0;32m1200\u001b[0m, in \u001b[0;35m_run_train\u001b[0m\n    self.fit_loop.run()\n",
      "  File \u001b[0;32m\"C:\\Users\\subar\\anaconda3\\envs\\d\\lib\\site-packages\\pytorch_lightning\\loops\\loop.py\"\u001b[0m, line \u001b[0;32m199\u001b[0m, in \u001b[0;35mrun\u001b[0m\n    self.advance(*args, **kwargs)\n",
      "  File \u001b[0;32m\"C:\\Users\\subar\\anaconda3\\envs\\d\\lib\\site-packages\\pytorch_lightning\\loops\\fit_loop.py\"\u001b[0m, line \u001b[0;32m267\u001b[0m, in \u001b[0;35madvance\u001b[0m\n    self._outputs = self.epoch_loop.run(self._data_fetcher)\n",
      "  File \u001b[0;32m\"C:\\Users\\subar\\anaconda3\\envs\\d\\lib\\site-packages\\pytorch_lightning\\loops\\loop.py\"\u001b[0m, line \u001b[0;32m200\u001b[0m, in \u001b[0;35mrun\u001b[0m\n    self.on_advance_end()\n",
      "  File \u001b[0;32m\"C:\\Users\\subar\\anaconda3\\envs\\d\\lib\\site-packages\\pytorch_lightning\\loops\\epoch\\training_epoch_loop.py\"\u001b[0m, line \u001b[0;32m251\u001b[0m, in \u001b[0;35mon_advance_end\u001b[0m\n    self._run_validation()\n",
      "  File \u001b[0;32m\"C:\\Users\\subar\\anaconda3\\envs\\d\\lib\\site-packages\\pytorch_lightning\\loops\\epoch\\training_epoch_loop.py\"\u001b[0m, line \u001b[0;32m310\u001b[0m, in \u001b[0;35m_run_validation\u001b[0m\n    self.val_loop.run()\n",
      "  File \u001b[0;32m\"C:\\Users\\subar\\anaconda3\\envs\\d\\lib\\site-packages\\pytorch_lightning\\loops\\loop.py\"\u001b[0m, line \u001b[0;32m199\u001b[0m, in \u001b[0;35mrun\u001b[0m\n    self.advance(*args, **kwargs)\n",
      "  File \u001b[0;32m\"C:\\Users\\subar\\anaconda3\\envs\\d\\lib\\site-packages\\pytorch_lightning\\loops\\dataloader\\evaluation_loop.py\"\u001b[0m, line \u001b[0;32m152\u001b[0m, in \u001b[0;35madvance\u001b[0m\n    dl_outputs = self.epoch_loop.run(self._data_fetcher, dl_max_batches, kwargs)\n",
      "  File \u001b[0;32m\"C:\\Users\\subar\\anaconda3\\envs\\d\\lib\\site-packages\\pytorch_lightning\\loops\\loop.py\"\u001b[0m, line \u001b[0;32m199\u001b[0m, in \u001b[0;35mrun\u001b[0m\n    self.advance(*args, **kwargs)\n",
      "  File \u001b[0;32m\"C:\\Users\\subar\\anaconda3\\envs\\d\\lib\\site-packages\\pytorch_lightning\\loops\\epoch\\evaluation_epoch_loop.py\"\u001b[0m, line \u001b[0;32m137\u001b[0m, in \u001b[0;35madvance\u001b[0m\n    output = self._evaluation_step(**kwargs)\n",
      "  File \u001b[0;32m\"C:\\Users\\subar\\anaconda3\\envs\\d\\lib\\site-packages\\pytorch_lightning\\loops\\epoch\\evaluation_epoch_loop.py\"\u001b[0m, line \u001b[0;32m234\u001b[0m, in \u001b[0;35m_evaluation_step\u001b[0m\n    output = self.trainer._call_strategy_hook(hook_name, *kwargs.values())\n",
      "  File \u001b[0;32m\"C:\\Users\\subar\\anaconda3\\envs\\d\\lib\\site-packages\\pytorch_lightning\\trainer\\trainer.py\"\u001b[0m, line \u001b[0;32m1480\u001b[0m, in \u001b[0;35m_call_strategy_hook\u001b[0m\n    output = fn(*args, **kwargs)\n",
      "  File \u001b[0;32m\"C:\\Users\\subar\\anaconda3\\envs\\d\\lib\\site-packages\\pytorch_lightning\\strategies\\strategy.py\"\u001b[0m, line \u001b[0;32m390\u001b[0m, in \u001b[0;35mvalidation_step\u001b[0m\n    return self.model.validation_step(*args, **kwargs)\n",
      "  File \u001b[0;32m\"C:\\Users\\subar\\anaconda3\\envs\\d\\lib\\site-packages\\pytorch_forecasting\\models\\base_model.py\"\u001b[0m, line \u001b[0;32m419\u001b[0m, in \u001b[0;35mvalidation_step\u001b[0m\n    log, out = self.step(x, y, batch_idx)\n",
      "  File \u001b[0;32m\"C:\\Users\\subar\\anaconda3\\envs\\d\\lib\\site-packages\\pytorch_forecasting\\models\\base_model.py\"\u001b[0m, line \u001b[0;32m559\u001b[0m, in \u001b[0;35mstep\u001b[0m\n    out = self(x, **kwargs)\n",
      "  File \u001b[0;32m\"C:\\Users\\subar\\anaconda3\\envs\\d\\lib\\site-packages\\torch\\nn\\modules\\module.py\"\u001b[0m, line \u001b[0;32m1194\u001b[0m, in \u001b[0;35m_call_impl\u001b[0m\n    return forward_call(*input, **kwargs)\n",
      "\u001b[1;36m  File \u001b[1;32m\"C:\\Users\\subar\\anaconda3\\envs\\d\\lib\\site-packages\\pytorch_forecasting\\models\\mlp\\__init__.py\"\u001b[1;36m, line \u001b[1;32m139\u001b[1;36m, in \u001b[1;35mforward\u001b[1;36m\u001b[0m\n\u001b[1;33m    prediction = self.mlp(network_input.view(-1, self.mlp.input_size)).view(\u001b[0m\n",
      "\u001b[1;31mRuntimeError\u001b[0m\u001b[1;31m:\u001b[0m cannot reshape tensor of 0 elements into shape [-1, 0] because the unspecified dimension size -1 can be any value and is ambiguous\n"
     ]
    }
   ],
   "source": [
    "\n",
    "net = DecoderMLP.from_dataset(training,learning_rate=3e-2, loss=SMAPE(quantiles=2))#,logging_metrics=SMAPE())\n",
    "\"\"\"\n",
    "DeepAR.from_dataset(\n",
    "    training,\n",
    "    learning_rate=0.1,\n",
    "    log_interval=10,\n",
    "    log_val_interval=1,\n",
    "    hidden_size=30,\n",
    "    rnn_layers=2,\n",
    "    loss=MultivariateNormalDistributionLoss(rank=30),\n",
    ")\n",
    "\"\"\"\n",
    "trainer.fit(\n",
    "    net,\n",
    "    train_dataloaders=train_dataloader,\n",
    "    val_dataloaders=train_dataloader#val_dataloader,\n",
    ")"
   ]
  },
  {
   "cell_type": "markdown",
   "id": "f1448eb9",
   "metadata": {},
   "source": [
    "we are going to have to do some preprocessing to speed things along\n",
    "\n",
    "first transformation to try is Percent difference followed by the log. we should also try minmax scalar on microbusiness density and active.\n",
    "\n",
    "We should also see if we can use stumpy to find and a reprsentative shapelet\n",
    "\n",
    "If we cannot meaningfully improve over shaphypetune we should consider using the tempral fusion transformer which is the only other deep transformer model capable of classification. We should use shaphypetune for feature addition\n",
    "\n",
    "Note: we are given no useful input information for the timestep that they want us to predict over in the test set. We will need to use the training set to predict over the final time step \n"
   ]
  },
  {
   "cell_type": "code",
   "execution_count": null,
   "id": "7d5d2b34",
   "metadata": {},
   "outputs": [],
   "source": [
    "best_model_path = trainer.checkpoint_callback.best_model_path\n",
    "best_model = DecoderMLP.load_from_checkpoint(best_model_path)"
   ]
  },
  {
   "cell_type": "code",
   "execution_count": null,
   "id": "68548967",
   "metadata": {},
   "outputs": [],
   "source": [
    "new_raw_predictions, new_x = best_model.predict(val_dataloader, mode=\"raw\", return_x=True)\n",
    "#trainer.predict(test)"
   ]
  },
  {
   "cell_type": "code",
   "execution_count": null,
   "id": "83f2147a",
   "metadata": {},
   "outputs": [],
   "source": []
  }
 ],
 "metadata": {
  "kernelspec": {
   "display_name": "Python 3 (Spyder)",
   "language": "python3",
   "name": "python3"
  },
  "language_info": {
   "codemirror_mode": {
    "name": "ipython",
    "version": 3
   },
   "file_extension": ".py",
   "mimetype": "text/x-python",
   "name": "python",
   "nbconvert_exporter": "python",
   "pygments_lexer": "ipython3",
   "version": "3.9.15"
  }
 },
 "nbformat": 4,
 "nbformat_minor": 5
}
